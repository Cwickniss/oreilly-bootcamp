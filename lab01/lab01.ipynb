{
 "cells": [
  {
   "cell_type": "code",
   "execution_count": 1,
   "metadata": {
    "slideshow": {
     "slide_type": "skip"
    },
    "tags": [
     "remove-cell"
    ]
   },
   "outputs": [],
   "source": [
    "# This code sets up display options, imports, etc.\n",
    "import numpy as np\n",
    "import matplotlib.pyplot as plt\n",
    "import pandas as pd\n",
    "import seaborn as sns\n",
    "from matplotlib_inline.backend_inline import set_matplotlib_formats\n",
    "\n",
    "import plotly.express as px\n",
    "import plotly.io as pio\n",
    "\n",
    "# set up plotting defaults\n",
    "%matplotlib inline\n",
    "set_matplotlib_formats(\"svg\")\n",
    "sns.set_style(\"whitegrid\")\n",
    "plt.rcParams[\"figure.figsize\"] = (4, 3)\n",
    "pio.templates.default = \"simple_white\"\n",
    "\n",
    "# display options for numpy and pandas\n",
    "np.set_printoptions(threshold=20, precision=2, suppress=True)\n",
    "pd.set_option(\"display.max_rows\", 7)\n",
    "pd.set_option(\"display.max_columns\", 8)\n",
    "pd.set_option(\"precision\", 2)"
   ]
  },
  {
   "cell_type": "markdown",
   "metadata": {
    "slideshow": {
     "slide_type": "slide"
    }
   },
   "source": [
    "# Lab 1: Pandas and Data Cleaning\n",
    "\n",
    "**Data Science Bootcamp with Python, Pandas, and Plotly**\n",
    "\n",
    "Feb 21, 2023"
   ]
  },
  {
   "cell_type": "markdown",
   "metadata": {},
   "source": [
    "## Working with data tables in `pandas`"
   ]
  },
  {
   "cell_type": "markdown",
   "metadata": {},
   "source": [
    "### Subsetting and Filtering: NBA Salaries"
   ]
  },
  {
   "cell_type": "code",
   "execution_count": 2,
   "metadata": {
    "slideshow": {
     "slide_type": "-"
    }
   },
   "outputs": [],
   "source": [
    "import pandas as pd\n",
    "import numpy as np"
   ]
  },
  {
   "cell_type": "markdown",
   "metadata": {},
   "source": [
    "This code loads in salaries for NBA players in the '21-'22 season."
   ]
  },
  {
   "cell_type": "code",
   "execution_count": 52,
   "metadata": {},
   "outputs": [],
   "source": [
    "def data(csv):\n",
    "    return f'https://github.com/DS-100/textbook/blob/master/content/datasets/{csv}?raw=true'\n",
    "\n",
    "data('nba-2022.csv')"
   ]
  },
  {
   "cell_type": "code",
   "execution_count": 54,
   "metadata": {
    "scrolled": false
   },
   "outputs": [],
   "source": [
    "salaries = pd.read_csv(data('nba-2022.csv'))\n",
    "salaries"
   ]
  },
  {
   "cell_type": "markdown",
   "metadata": {},
   "source": [
    "### What questions can we answer with this data?"
   ]
  },
  {
   "cell_type": "markdown",
   "metadata": {},
   "source": [
    "- Fill in this cell with your answer."
   ]
  },
  {
   "cell_type": "code",
   "execution_count": null,
   "metadata": {},
   "outputs": [],
   "source": []
  },
  {
   "cell_type": "code",
   "execution_count": null,
   "metadata": {},
   "outputs": [],
   "source": []
  },
  {
   "cell_type": "markdown",
   "metadata": {},
   "source": [
    "### Aggregating: Dog Breed Data"
   ]
  },
  {
   "cell_type": "markdown",
   "metadata": {},
   "source": [
    "- Fill in this cell with your answer."
   ]
  },
  {
   "cell_type": "code",
   "execution_count": 55,
   "metadata": {},
   "outputs": [],
   "source": [
    "dogs = ...\n",
    "dogs"
   ]
  },
  {
   "cell_type": "markdown",
   "metadata": {},
   "source": [
    "### Putting it all Together: Baby Names\n",
    "\n",
    "#### Lilith, Lilibet … Lucifer? How Baby Names Went to ‘L’\n",
    "\n",
    "https://archive.is/NpORG"
   ]
  },
  {
   "cell_type": "markdown",
   "metadata": {},
   "source": [
    "### What are the claims made in the article?\n",
    "\n",
    "- Fill in this cell with your answer."
   ]
  },
  {
   "cell_type": "code",
   "execution_count": 56,
   "metadata": {},
   "outputs": [],
   "source": [
    "baby = pd.read_csv(data('babynames.csv'))\n",
    "baby"
   ]
  },
  {
   "cell_type": "code",
   "execution_count": 57,
   "metadata": {},
   "outputs": [],
   "source": [
    "nyt = pd.read_csv(data('nyt_names.csv'))\n",
    "nyt"
   ]
  },
  {
   "cell_type": "markdown",
   "metadata": {},
   "source": [
    "### Recap: Data table manipulation"
   ]
  },
  {
   "cell_type": "markdown",
   "metadata": {},
   "source": [
    "- Fill in this cell with your notes."
   ]
  },
  {
   "cell_type": "markdown",
   "metadata": {},
   "source": [
    "## Data Cleaning"
   ]
  },
  {
   "cell_type": "markdown",
   "metadata": {},
   "source": [
    "### CO2 Measurements on Mauna Loa\n",
    "\n",
    "www.esrl.noaa.gov/gmd/ccgg/trends/"
   ]
  },
  {
   "cell_type": "code",
   "execution_count": 48,
   "metadata": {},
   "outputs": [],
   "source": [
    "!wget --output-document \"co2_mm_mlo.txt\" \"https://github.com/DS-100/textbook/blob/master/content/datasets/co2_mm_mlo.txt?raw=true\" 2> /dev/null"
   ]
  },
  {
   "cell_type": "code",
   "execution_count": 49,
   "metadata": {},
   "outputs": [],
   "source": [
    "!head co2_mm_mlo.txt"
   ]
  },
  {
   "cell_type": "code",
   "execution_count": 12,
   "metadata": {},
   "outputs": [],
   "source": [
    "from pathlib import Path\n",
    "\n",
    "lines = Path('co2_mm_mlo.txt').read_text().split('\\n')\n",
    "len(lines)"
   ]
  },
  {
   "cell_type": "code",
   "execution_count": 35,
   "metadata": {},
   "outputs": [],
   "source": [
    "lines[:6]"
   ]
  },
  {
   "cell_type": "code",
   "execution_count": 14,
   "metadata": {},
   "outputs": [],
   "source": [
    "lines[69:79]"
   ]
  },
  {
   "cell_type": "code",
   "execution_count": 15,
   "metadata": {},
   "outputs": [],
   "source": [
    "co2 = pd.read_csv('co2_mm_mlo.txt', \n",
    "                  header=None, skiprows=72, sep='\\s+',\n",
    "                  names=['Yr', 'Mo', 'DecDate', 'Avg', 'Int', 'Trend', 'days'])\n",
    "co2.head()"
   ]
  },
  {
   "cell_type": "markdown",
   "metadata": {},
   "source": [
    "### Missing Data"
   ]
  },
  {
   "cell_type": "code",
   "execution_count": 20,
   "metadata": {},
   "outputs": [],
   "source": [
    "px.line(co2, x='DecDate', y='Avg')"
   ]
  },
  {
   "cell_type": "code",
   "execution_count": 22,
   "metadata": {},
   "outputs": [],
   "source": [
    "px.histogram(co2, x='days')"
   ]
  },
  {
   "cell_type": "code",
   "execution_count": 23,
   "metadata": {},
   "outputs": [],
   "source": [
    "px.scatter(co2, x='Yr', y='days')"
   ]
  },
  {
   "cell_type": "code",
   "execution_count": 24,
   "metadata": {},
   "outputs": [],
   "source": [
    "px.histogram(co2, x='Avg')"
   ]
  },
  {
   "cell_type": "code",
   "execution_count": 28,
   "metadata": {},
   "outputs": [],
   "source": [
    "co2[co2[\"Avg\"] < 0]"
   ]
  },
  {
   "cell_type": "code",
   "execution_count": 41,
   "metadata": {},
   "outputs": [],
   "source": [
    "from plotly.subplots import make_subplots\n",
    "import plotly.graph_objects as go\n",
    "\n",
    "fig = make_subplots(rows=1, cols=3,\n",
    "    subplot_titles=(\"Missing Dropped\", \n",
    "                    \"Missing Set to NaN\", \"Missing Interpolated\"))\n",
    "\n",
    "co2_small = (co2[co2['Avg'] > 0])[:8] \n",
    "\n",
    "fig.add_trace(\n",
    "    go.Scatter(x=co2_small['Mo'], y=co2_small['Avg'], \n",
    "               mode='lines+markers'),\n",
    "    row=1, col=1)\n",
    "\n",
    "co2_na = (co2.replace(-99.99, np.NaN))[:10]\n",
    "\n",
    "fig.add_trace(\n",
    "    go.Scatter(x=co2_na['Mo'], y=co2_na['Avg'], mode='lines+markers'),\n",
    "    row=1, col=2)\n",
    "\n",
    "fig.add_trace(\n",
    "    go.Scatter(x=co2_na['Mo'], y=co2_na['Int'], mode='lines+markers'),\n",
    "    row=1, col=3)\n",
    "\n",
    "fig.update_xaxes(tickvals = np.arange(3, 13, 1), row=1, col=1)\n",
    "fig.update_xaxes(tickvals = np.arange(3, 13, 1), row=1, col=2)\n",
    "fig.update_xaxes(tickvals = np.arange(3, 13, 1), row=1, col=3)\n",
    "\n",
    "fig.update_layout(height=350, margin=dict(t=30))\n",
    "\n",
    "fig.show()"
   ]
  },
  {
   "cell_type": "markdown",
   "metadata": {},
   "source": [
    "### Granularity"
   ]
  },
  {
   "cell_type": "code",
   "execution_count": 42,
   "metadata": {},
   "outputs": [],
   "source": [
    "co2"
   ]
  },
  {
   "cell_type": "code",
   "execution_count": 44,
   "metadata": {},
   "outputs": [],
   "source": [
    "fig = px.line(co2.groupby('Yr')['Int'].mean())\n",
    "fig.update_layout(showlegend=False)\n",
    "fig.show()"
   ]
  },
  {
   "cell_type": "markdown",
   "metadata": {},
   "source": [
    "### Data Cleaning Principles\n",
    "\n",
    "- Check data quality\n",
    "- Look for missing values\n",
    "- Transform data\n",
    "- Modify structure"
   ]
  },
  {
   "cell_type": "markdown",
   "metadata": {},
   "source": [
    "## Case Study: Restaurant Safety Violations"
   ]
  },
  {
   "cell_type": "markdown",
   "metadata": {},
   "source": [
    "https://data.sfgov.org/Health-and-Social-Services/Restaurant-Scores-LIVES-Standard/pyih-qa8i"
   ]
  },
  {
   "cell_type": "code",
   "execution_count": 68,
   "metadata": {},
   "outputs": [],
   "source": [
    "# businesses\n",
    "bus = pd.read_csv(data('SF_Restaurant_Inspections/businesses.csv'), encoding='ISO-8859-1')\n",
    "\n",
    "# inspections\n",
    "insp = pd.read_csv(data('SF_Restaurant_Inspections/inspections.csv'))\n",
    "\n",
    "# violations\n",
    "viol = pd.read_csv(data('SF_Restaurant_Inspections/violations.csv'))"
   ]
  },
  {
   "cell_type": "code",
   "execution_count": 69,
   "metadata": {},
   "outputs": [],
   "source": [
    "bus"
   ]
  },
  {
   "cell_type": "code",
   "execution_count": 70,
   "metadata": {},
   "outputs": [],
   "source": [
    "date_format = '%Y%m%d'\n",
    "\n",
    "def parse_dates_and_years(df, column='date'):\n",
    "    dates = pd.to_datetime(df[column], format=date_format)\n",
    "    years = dates.dt.year\n",
    "    return df.assign(timestamp=dates, year=years)\n",
    "\n",
    "def subset_2016(df):\n",
    "    return df.query('year == 2016')\n",
    "\n",
    "# inspections\n",
    "ins2016 = (insp\n",
    "           .pipe(parse_dates_and_years)\n",
    "           .pipe(subset_2016))\n",
    "\n",
    "# violations\n",
    "vio2016 = (viol\n",
    "           .pipe(parse_dates_and_years)\n",
    "           .pipe(subset_2016))"
   ]
  },
  {
   "cell_type": "code",
   "execution_count": 71,
   "metadata": {},
   "outputs": [],
   "source": [
    "num_vios = (vio2016\n",
    "            .groupby(['business_id', 'timestamp'])\n",
    "            .size()\n",
    "            .reset_index()\n",
    "            .rename(columns={0: 'num_vio'}));\n",
    "num_vios"
   ]
  },
  {
   "cell_type": "code",
   "execution_count": 75,
   "metadata": {},
   "outputs": [],
   "source": [
    "def left_join_vios(df):\n",
    "    return df.merge(num_vios, on=['business_id', 'timestamp'], how='left')\n",
    "\n",
    "def zero_vios_for_perfect_scores(df):\n",
    "    df = df.copy()\n",
    "    df.loc[df['score'] == 100, 'num_vio'] = 0\n",
    "    return df\n",
    "\n",
    "ins_and_num_vios = (ins2016.pipe(left_join_vios)\n",
    "                    .pipe(zero_vios_for_perfect_scores))\n",
    "ins_and_num_vios"
   ]
  },
  {
   "cell_type": "code",
   "execution_count": 76,
   "metadata": {},
   "outputs": [],
   "source": [
    "ins_and_num_vios['num_vio'].isnull().sum()"
   ]
  },
  {
   "cell_type": "code",
   "execution_count": 78,
   "metadata": {},
   "outputs": [],
   "source": [
    "px.strip(ins_and_num_vios, x=\"num_vio\", y=\"score\")"
   ]
  },
  {
   "cell_type": "code",
   "execution_count": 83,
   "metadata": {},
   "outputs": [],
   "source": [
    "vio2016['description'].value_counts().head(20).to_frame()"
   ]
  },
  {
   "cell_type": "code",
   "execution_count": 88,
   "metadata": {},
   "outputs": [],
   "source": [
    "from IPython.display import display\n",
    "with pd.option_context(\"display.max_rows\", 15):\n",
    "    display(vio2016['description'].value_counts().head(15).to_frame())"
   ]
  },
  {
   "cell_type": "markdown",
   "metadata": {},
   "source": [
    "### Do certain kinds of violations impact safety score more than others?"
   ]
  },
  {
   "cell_type": "code",
   "execution_count": 90,
   "metadata": {},
   "outputs": [],
   "source": [
    "def make_vio_categories(vio):\n",
    "    def has(term):\n",
    "        return vio['description'].str.contains(term)\n",
    "\n",
    "    return vio[['business_id', 'timestamp']].assign(\n",
    "        high_risk        = has(r\"high risk\"),\n",
    "        clean            = has(r\"clean|sanit\"),\n",
    "        food_surface     = (has(r\"surface\") & has(r\"\\Wfood\")),\n",
    "        vermin           = has(r\"vermin\"),\n",
    "        storage          = has(r\"thaw|cool|therm|storage\"),\n",
    "        permit           = has(r\"certif|permit\"),\n",
    "        non_food_surface = has(r\"wall|ceiling|floor|surface\"),\n",
    "        human            = has(r\"hand|glove|hair|nail\"),\n",
    "    )"
   ]
  },
  {
   "cell_type": "code",
   "execution_count": 91,
   "metadata": {},
   "outputs": [],
   "source": [
    "# The violations with the new categories.\n",
    "# `vio_ctg` is short for `violation categories`.\n",
    "vio_ctg = vio2016.pipe(make_vio_categories)\n",
    "vio_ctg"
   ]
  },
  {
   "cell_type": "code",
   "execution_count": 92,
   "metadata": {},
   "outputs": [],
   "source": [
    "vio_counts = vio_ctg.groupby(['business_id', 'timestamp']).sum().reset_index()\n",
    "vio_counts"
   ]
  },
  {
   "cell_type": "code",
   "execution_count": 93,
   "metadata": {},
   "outputs": [],
   "source": [
    "feature_names = ['high_risk', 'clean', 'food_surface', 'vermin',\n",
    "                 'storage', 'permit', 'non_food_surface', 'human']\n",
    "\n",
    "def left_join_features(ins):\n",
    "    return (ins[['business_id', 'timestamp', 'score']]\n",
    "            .merge(vio_counts, on=['business_id', 'timestamp'], how='left'))\n",
    "\n",
    "def zero_features_for_perfect_scores(ins):\n",
    "    ins = ins.copy()\n",
    "    ins.loc[ins['score'] == 100, feature_names] = 0\n",
    "    return ins"
   ]
  },
  {
   "cell_type": "code",
   "execution_count": 94,
   "metadata": {},
   "outputs": [],
   "source": [
    "ins_and_vios = (ins2016.pipe(left_join_features)\n",
    "                .pipe(zero_features_for_perfect_scores))\n",
    "ins_and_vios.head(3)"
   ]
  },
  {
   "cell_type": "code",
   "execution_count": 95,
   "metadata": {},
   "outputs": [],
   "source": [
    "px.box(ins_and_vios, x='high_risk', y='score')"
   ]
  },
  {
   "cell_type": "code",
   "execution_count": 96,
   "metadata": {
    "scrolled": false
   },
   "outputs": [],
   "source": [
    "px.box(ins_and_vios, x='vermin', y='score')"
   ]
  }
 ],
 "metadata": {
  "kernelspec": {
   "display_name": "Python 3 (ipykernel)",
   "language": "python",
   "name": "python3"
  },
  "language_info": {
   "codemirror_mode": {
    "name": "ipython",
    "version": 3
   },
   "file_extension": ".py",
   "mimetype": "text/x-python",
   "name": "python",
   "nbconvert_exporter": "python",
   "pygments_lexer": "ipython3",
   "version": "3.8.5"
  }
 },
 "nbformat": 4,
 "nbformat_minor": 4
}
