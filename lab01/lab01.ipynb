{
 "cells": [
  {
   "cell_type": "code",
   "execution_count": 104,
   "metadata": {
    "slideshow": {
     "slide_type": "skip"
    },
    "tags": [
     "remove-cell"
    ]
   },
   "outputs": [],
   "source": [
    "# This line sets up display options, imports, etc.\n",
    "from bootcamp_utils import *\n",
    "%reload_ext pandas_tutor\n",
    "%set_pandas_tutor_options {'projectorMode': True}"
   ]
  },
  {
   "cell_type": "markdown",
   "metadata": {
    "slideshow": {
     "slide_type": "slide"
    }
   },
   "source": [
    "# Lab 1: Pandas and Data Cleaning\n",
    "\n",
    "**Data Science Bootcamp with Python, Pandas, and Plotly**\n",
    "\n",
    "Feb 21, 2023\n",
    "\n",
    "**Agenda:**\n",
    "\n",
    "- Introductions\n",
    "- About the bootcamp\n",
    "- Using pandas for data tables\n",
    "- Data cleaning using pandas"
   ]
  },
  {
   "cell_type": "markdown",
   "metadata": {
    "slideshow": {
     "slide_type": ""
    }
   },
   "source": [
    "## Welcome!"
   ]
  },
  {
   "cell_type": "markdown",
   "metadata": {
    "slideshow": {
     "slide_type": "slide"
    }
   },
   "source": [
    "## About the Instructors: Sam Lau\n",
    "\n",
    "<div class=\"ss\">\n",
    "<div>\n",
    "        \n",
    "- PhD student at UC San Diego\n",
    "- Research: program viz, Pandas Tutor\n",
    "- Teaching: 9+ years, about to become teaching professor at...\n",
    "- Excited to meet you!\n",
    "        \n",
    "</div>\n",
    "<div>\n",
    "        \n",
    "TODO: add pic\n",
    "        \n",
    "</div>\n",
    "</div>"
   ]
  },
  {
   "cell_type": "markdown",
   "metadata": {
    "slideshow": {
     "slide_type": "slide"
    }
   },
   "source": [
    "## About the Instructors: Joey Gonzalez\n",
    "\n",
    "<div class=\"ss\">\n",
    "<div>\n",
    "        \n",
    "TODO: fill me in\n",
    "\n",
    "</div>\n",
    "<div>\n",
    "        \n",
    "TODO: add pic\n",
    "        \n",
    "</div>\n",
    "</div>"
   ]
  },
  {
   "cell_type": "markdown",
   "metadata": {
    "slideshow": {
     "slide_type": "slide"
    }
   },
   "source": [
    "## About the Instructors: Deb Nolan\n",
    "\n",
    "<div class=\"ss\">\n",
    "<div>\n",
    "        \n",
    "TODO: fill me in\n",
    "\n",
    "</div>\n",
    "<div>\n",
    "        \n",
    "TODO: add pic\n",
    "        \n",
    "</div>\n",
    "</div>"
   ]
  },
  {
   "cell_type": "markdown",
   "metadata": {
    "slideshow": {
     "slide_type": "slide"
    }
   },
   "source": [
    "## About the Course\n",
    "\n",
    "- 4 weeks long, 3 hours each session\n",
    "- A mix of concepts (slides) and coding labs (Jupyter notebook)"
   ]
  },
  {
   "cell_type": "markdown",
   "metadata": {
    "slideshow": {
     "slide_type": "slide"
    }
   },
   "source": [
    "## Following Along\n",
    "\n",
    "- TODO: add instructions for students to follow along in notebook.\n",
    "- Take notes directly in notebook"
   ]
  },
  {
   "cell_type": "markdown",
   "metadata": {},
   "source": [
    "## DataFrames"
   ]
  },
  {
   "cell_type": "markdown",
   "metadata": {
    "slideshow": {
     "slide_type": "slide"
    }
   },
   "source": [
    "### DataFrames in `pandas` 🐼\n",
    "\n",
    "- Tables in `pandas` are called \"DataFrames.\"\n",
    "- To use DataFrames, we'll need to import `pandas`. (We'll need `numpy` as well.)"
   ]
  },
  {
   "cell_type": "code",
   "execution_count": 105,
   "metadata": {
    "slideshow": {
     "slide_type": "-"
    }
   },
   "outputs": [],
   "source": [
    "import pandas as pd\n",
    "import numpy as np"
   ]
  },
  {
   "cell_type": "markdown",
   "metadata": {
    "slideshow": {
     "slide_type": "slide"
    }
   },
   "source": [
    "### Reading data from a file 📖\n",
    "\n",
    "- The file `nba-2022.csv` contains all salaries from the 2021-22 NBA (National Basketball Association 🏀) season for players who have played at least 15 games.\n",
    "    - CSV stands for \"comma-separated values\".\n",
    "- We can read a CSV using `pd.read_csv(...)`. Give it the name of the file if it's in the same directory as your notebook, or a path to the file otherwise."
   ]
  },
  {
   "cell_type": "code",
   "execution_count": 106,
   "metadata": {
    "scrolled": false
   },
   "outputs": [],
   "source": [
    "salaries = ...\n",
    "salaries"
   ]
  },
  {
   "cell_type": "markdown",
   "metadata": {
    "slideshow": {
     "slide_type": "slide"
    }
   },
   "source": [
    "### Structure of a DataFrame\n",
    "\n",
    "- DataFrames have *columns* and *rows*.\n",
    "    - Think of each column as an array.\n",
    "- Each column has a label: `'Player'`, `'Position'`, etc.\n",
    "    - This is its name.\n",
    "    - Column labels are stored as strings.\n",
    "- Every row has a label too.\n",
    "    - Together, the row labels are called the _index_. The index is **not** a column!\n",
    "    "
   ]
  },
  {
   "cell_type": "markdown",
   "metadata": {
    "slideshow": {
     "slide_type": "slide"
    }
   },
   "source": [
    "#### Here's an example DataFrame of dog breeds:\n",
    "\n",
    "<center>\n",
    "<img src=\"http://www.textbook.ds100.org/_images/dog-labels.svg\" width=\"50%\" />\n",
    "</center>"
   ]
  },
  {
   "cell_type": "code",
   "execution_count": 107,
   "metadata": {
    "slideshow": {
     "slide_type": "slide"
    }
   },
   "outputs": [],
   "source": [
    "# This dataframe has 381 rows and 4 columns\n",
    "salaries"
   ]
  },
  {
   "cell_type": "markdown",
   "metadata": {
    "slideshow": {
     "slide_type": "slide"
    }
   },
   "source": [
    "### Setting a new index\n",
    "\n",
    "- We can set a better index using `.set_index(column_name)`.\n",
    "- Row labels should be unique identifiers.\n",
    "    - Row labels = row names; ideally, each row has a different, descriptive name.\n",
    "- ⚠️ Like most DataFrame methods, `.set_index` returns a new DataFrame; it does not modify the original DataFrame."
   ]
  },
  {
   "cell_type": "code",
   "execution_count": 108,
   "metadata": {},
   "outputs": [],
   "source": [
    "salaries_by_player = ...\n",
    "salaries_by_player"
   ]
  },
  {
   "cell_type": "markdown",
   "metadata": {
    "slideshow": {
     "slide_type": "slide"
    }
   },
   "source": [
    "### Shape of a DataFrame\n",
    "\n",
    "- `.shape` returns the number of rows and columns in a given DataFrame.\n",
    "- Access each with `[]`:"
   ]
  },
  {
   "cell_type": "code",
   "execution_count": 109,
   "metadata": {},
   "outputs": [],
   "source": [
    "..."
   ]
  },
  {
   "cell_type": "code",
   "execution_count": 110,
   "metadata": {},
   "outputs": [],
   "source": [
    "# Number of rows\n",
    "..."
   ]
  },
  {
   "cell_type": "code",
   "execution_count": 111,
   "metadata": {},
   "outputs": [],
   "source": [
    "# Number of columns\n",
    "..."
   ]
  },
  {
   "cell_type": "markdown",
   "metadata": {
    "slideshow": {
     "slide_type": "slide"
    }
   },
   "source": [
    "## Example 1: Salary per game\n",
    "\n",
    "**Key concepts:** How do we slice values out of a dataframe?"
   ]
  },
  {
   "cell_type": "markdown",
   "metadata": {
    "slideshow": {
     "slide_type": "slide"
    }
   },
   "source": [
    "### Finding per-game salaries\n",
    "\n",
    "- We have each player's salary this season. An NBA regular season has 82 games in it.\n",
    "- **Question:** How much money is each player getting paid per game?\n",
    "- Workflow:\n",
    "    - Get the column of salaries.\n",
    "    - Divide each element by 82.\n",
    "    - Add a new column to the DataFrame."
   ]
  },
  {
   "cell_type": "markdown",
   "metadata": {
    "slideshow": {
     "slide_type": "slide"
    }
   },
   "source": [
    "#### Step 1 – Getting a column\n",
    "\n",
    "- We can get a column from a DataFrame using `df[column_name]`.\n",
    "- ⚠️ Column names are case sensitive!\n",
    "- The result looks like a 1-column DataFrame, but is actually a *Series*."
   ]
  },
  {
   "cell_type": "code",
   "execution_count": 112,
   "metadata": {},
   "outputs": [],
   "source": [
    "salaries_by_player"
   ]
  },
  {
   "cell_type": "code",
   "execution_count": 113,
   "metadata": {},
   "outputs": [],
   "source": [
    "..."
   ]
  },
  {
   "cell_type": "markdown",
   "metadata": {
    "slideshow": {
     "slide_type": "slide"
    }
   },
   "source": [
    "### Digression: Series\n",
    "\n",
    "- A *Series* is like an array, but with an index.\n",
    "- In particular, Series' support arithmetic."
   ]
  },
  {
   "cell_type": "code",
   "execution_count": 114,
   "metadata": {},
   "outputs": [],
   "source": [
    "salaries_by_player['Salary']"
   ]
  },
  {
   "cell_type": "markdown",
   "metadata": {
    "slideshow": {
     "slide_type": "slide"
    }
   },
   "source": [
    "#### Step 2 – Dividing salaries by the number of games\n",
    "\n",
    "- Just like with arrays, we can perform arithmetic operations on every element of a Series quite efficiently."
   ]
  },
  {
   "cell_type": "code",
   "execution_count": 115,
   "metadata": {},
   "outputs": [],
   "source": [
    "..."
   ]
  },
  {
   "cell_type": "markdown",
   "metadata": {
    "slideshow": {
     "slide_type": "slide"
    }
   },
   "source": [
    "#### Step 3 – Adding the per-game salaries to the DataFrame\n",
    "\n",
    "- Use `.assign(Name_of_column=data_in_array)` to assign a Series (or array, or list) to a DataFrame.\n",
    "- ⚠️ Don't put quotes around `Name_of_column`.\n",
    "- Creates a new DataFrame! Must save to variable."
   ]
  },
  {
   "cell_type": "code",
   "execution_count": 116,
   "metadata": {
    "scrolled": true
   },
   "outputs": [],
   "source": [
    "..."
   ]
  },
  {
   "cell_type": "code",
   "execution_count": 117,
   "metadata": {},
   "outputs": [],
   "source": [
    "salaries_by_player"
   ]
  },
  {
   "cell_type": "code",
   "execution_count": 118,
   "metadata": {
    "slideshow": {
     "slide_type": "slide"
    }
   },
   "outputs": [],
   "source": [
    "# pg stands for \"per game\"\n",
    "..."
   ]
  },
  {
   "cell_type": "code",
   "execution_count": 119,
   "metadata": {},
   "outputs": [],
   "source": [
    "salaries_pg"
   ]
  },
  {
   "cell_type": "markdown",
   "metadata": {
    "slideshow": {
     "slide_type": "slide"
    }
   },
   "source": [
    "### Using pandas tutor\n",
    "\n",
    "- Pandas Tutor is a tool Sam developed as part of his PhD!\n",
    "- It draws diagrams to explain `pandas` code.\n",
    "- Add `%%pt` to the top of the cell to explain the last line of code.\n",
    "  - Can also use website: https://pandastutor.com/\n",
    "- Main downside: only works for relatively small dataframes."
   ]
  },
  {
   "cell_type": "code",
   "execution_count": 120,
   "metadata": {
    "scrolled": false,
    "slideshow": {
     "slide_type": "slide"
    }
   },
   "outputs": [],
   "source": [
    "%%pt\n",
    "\n",
    "..."
   ]
  },
  {
   "cell_type": "markdown",
   "metadata": {
    "slideshow": {
     "slide_type": "slide"
    }
   },
   "source": [
    "## Example 2: Getting a particular player's salary\n",
    "\n",
    "**Key concept**: How do we use `.loc[]` for slicing?"
   ]
  },
  {
   "cell_type": "markdown",
   "metadata": {
    "slideshow": {
     "slide_type": "slide"
    }
   },
   "source": [
    "### How much is LeBron James making this season?"
   ]
  },
  {
   "cell_type": "code",
   "execution_count": 121,
   "metadata": {},
   "outputs": [],
   "source": [
    "# This is a Series!\n",
    "salaries_pg['Salary']"
   ]
  },
  {
   "cell_type": "markdown",
   "metadata": {
    "slideshow": {
     "slide_type": "slide"
    }
   },
   "source": [
    "### Accessing values by row label: `.loc`\n",
    "\n",
    "- Use `.loc[]` to *access* the element of a DataFrame with a particular row and column label.\n",
    "\n",
    "Syntax:\n",
    "\n",
    "```\n",
    "df.loc[row, column]\n",
    "```"
   ]
  },
  {
   "cell_type": "code",
   "execution_count": 122,
   "metadata": {},
   "outputs": [],
   "source": [
    "..."
   ]
  },
  {
   "cell_type": "markdown",
   "metadata": {
    "slideshow": {
     "slide_type": "slide"
    }
   },
   "source": [
    "### Example: What position does LeBron play?"
   ]
  },
  {
   "cell_type": "code",
   "execution_count": 123,
   "metadata": {},
   "outputs": [],
   "source": [
    "..."
   ]
  },
  {
   "cell_type": "markdown",
   "metadata": {
    "slideshow": {
     "slide_type": "slide"
    }
   },
   "source": [
    "### Slicing by label: `.loc`\n",
    "\n",
    "We can pass in multiple rows and columns to `.loc[]`:"
   ]
  },
  {
   "cell_type": "code",
   "execution_count": 124,
   "metadata": {},
   "outputs": [],
   "source": [
    "..."
   ]
  },
  {
   "cell_type": "markdown",
   "metadata": {
    "slideshow": {
     "slide_type": "slide"
    }
   },
   "source": [
    "### Slicing by column label: `.loc`\n",
    "\n",
    "`df.loc[:, 'Salary']` is (almost) equivalent to `df['Salary']`.\n",
    "\n",
    "The `:` argument says \"slice all the rows\"."
   ]
  },
  {
   "cell_type": "code",
   "execution_count": 125,
   "metadata": {},
   "outputs": [],
   "source": [
    "..."
   ]
  },
  {
   "cell_type": "code",
   "execution_count": 126,
   "metadata": {},
   "outputs": [],
   "source": [
    "..."
   ]
  },
  {
   "cell_type": "markdown",
   "metadata": {
    "slideshow": {
     "slide_type": "slide"
    }
   },
   "source": [
    "## Example 3: Salary analysis\n",
    "\n",
    "**Key concept**: How do we compute statistics of columns?"
   ]
  },
  {
   "cell_type": "markdown",
   "metadata": {
    "slideshow": {
     "slide_type": "slide"
    }
   },
   "source": [
    "### Questions about salary\n",
    "\n",
    "- What is the highest/lowest salary? What is the average salary?\n",
    "- Series' have helpful methods, like `.min()`, `.max()`, `.mean()`, etc."
   ]
  },
  {
   "cell_type": "code",
   "execution_count": 127,
   "metadata": {},
   "outputs": [],
   "source": [
    "salaries_pg['Salary'].min()"
   ]
  },
  {
   "cell_type": "code",
   "execution_count": 128,
   "metadata": {},
   "outputs": [],
   "source": [
    "salaries_pg['Salary'].max()"
   ]
  },
  {
   "cell_type": "code",
   "execution_count": 129,
   "metadata": {},
   "outputs": [],
   "source": [
    "salaries_pg['Salary'].mean()"
   ]
  },
  {
   "cell_type": "code",
   "execution_count": 130,
   "metadata": {
    "scrolled": true
   },
   "outputs": [],
   "source": [
    "salaries_pg['Salary'].median()"
   ]
  },
  {
   "cell_type": "markdown",
   "metadata": {
    "slideshow": {
     "slide_type": "slide"
    }
   },
   "source": [
    "## Example 4: *Who* has the highest salary?\n",
    "\n",
    "**Key concept**: Sorting."
   ]
  },
  {
   "cell_type": "markdown",
   "metadata": {
    "slideshow": {
     "slide_type": "slide"
    }
   },
   "source": [
    "#### Step 1 – Sorting the DataFrame\n",
    "\n",
    "- Use the `.sort_values(by=column_name)` method to sort.\n",
    "    - **Notice:** Like most DataFrame methods, this returns a new DataFrame.\n",
    "- Everything works as expected, but we wanted *descending* order."
   ]
  },
  {
   "cell_type": "code",
   "execution_count": 131,
   "metadata": {
    "scrolled": false
   },
   "outputs": [],
   "source": [
    "..."
   ]
  },
  {
   "cell_type": "markdown",
   "metadata": {
    "slideshow": {
     "slide_type": "slide"
    }
   },
   "source": [
    "#### Step 1 – Sorting the DataFrame in *descending* order\n",
    "\n",
    "- Use `.sort_values(by=column_name, ascending=False)` to sort in *descending* order."
   ]
  },
  {
   "cell_type": "code",
   "execution_count": 132,
   "metadata": {},
   "outputs": [],
   "source": [
    "highest_salaries = ...\n",
    "highest_salaries"
   ]
  },
  {
   "cell_type": "markdown",
   "metadata": {
    "slideshow": {
     "slide_type": "slide"
    }
   },
   "source": [
    "#### Step 2 – Getting the *name* of the person with the highest salary\n",
    "\n",
    "- We saw that it's Stephen Curry, but how do we get the name using code?\n",
    "- Remember, the index is like an array."
   ]
  },
  {
   "cell_type": "code",
   "execution_count": 133,
   "metadata": {},
   "outputs": [],
   "source": [
    "..."
   ]
  },
  {
   "cell_type": "markdown",
   "metadata": {
    "slideshow": {
     "slide_type": "slide"
    }
   },
   "source": [
    "## Example 5: What team does the person with the third-lowest salary play for?\n",
    "\n",
    "**Key concept**: Using integer positions."
   ]
  },
  {
   "cell_type": "markdown",
   "metadata": {
    "slideshow": {
     "slide_type": "slide"
    }
   },
   "source": [
    "#### Slicing using positions: `.iloc[]`\n",
    "\n",
    "- We want to sort the dataframe, then take the third row.\n",
    "- `.iloc[row_position, column_position]` lets us select out values by position."
   ]
  },
  {
   "cell_type": "code",
   "execution_count": 134,
   "metadata": {},
   "outputs": [],
   "source": [
    "%%pt\n",
    "\n",
    "..."
   ]
  },
  {
   "cell_type": "markdown",
   "metadata": {},
   "source": [
    "#### Aside: Using `.loc` and `.iloc` on Series\n",
    "\n",
    "- `.loc` and `.iloc` also work on Series...\n",
    "- ...but since Series only have rows (not columns), pass in one argument."
   ]
  },
  {
   "cell_type": "code",
   "execution_count": 135,
   "metadata": {},
   "outputs": [],
   "source": [
    "..."
   ]
  },
  {
   "cell_type": "markdown",
   "metadata": {
    "slideshow": {
     "slide_type": "slide"
    }
   },
   "source": [
    "### Summary of Slicing\n",
    "\n",
    "- There are three ways to get values out of a DataFrame:\n",
    "    - `.loc[]` uses row and column labels.\n",
    "    - `.iloc[]` uses row and column positions.\n",
    "    - `[]` is a shorthand, but it behaves differently depending on what you pass it."
   ]
  },
  {
   "cell_type": "code",
   "execution_count": 136,
   "metadata": {},
   "outputs": [],
   "source": [
    "# Same as salaries.loc[:, 'Team']\n",
    "salaries['Team'] "
   ]
  },
  {
   "cell_type": "code",
   "execution_count": 137,
   "metadata": {},
   "outputs": [],
   "source": [
    "# Same as salaries.iloc[0:4, :]\n",
    "salaries[0:4]"
   ]
  },
  {
   "cell_type": "markdown",
   "metadata": {
    "slideshow": {
     "slide_type": "slide"
    }
   },
   "source": [
    "## Your Turn\n",
    "\n",
    "Answer the following questions using `pandas`!"
   ]
  },
  {
   "cell_type": "markdown",
   "metadata": {
    "slideshow": {
     "slide_type": "slide"
    }
   },
   "source": [
    "### Q: What is the highest salary?"
   ]
  },
  {
   "cell_type": "code",
   "execution_count": 138,
   "metadata": {},
   "outputs": [],
   "source": [
    "..."
   ]
  },
  {
   "cell_type": "markdown",
   "metadata": {
    "slideshow": {
     "slide_type": "slide"
    }
   },
   "source": [
    "### Q: How many players are there in the dataset?"
   ]
  },
  {
   "cell_type": "code",
   "execution_count": 139,
   "metadata": {},
   "outputs": [],
   "source": [
    "..."
   ]
  },
  {
   "cell_type": "markdown",
   "metadata": {
    "slideshow": {
     "slide_type": "slide"
    }
   },
   "source": [
    "### Q: What is LeBron James' salary per game?"
   ]
  },
  {
   "cell_type": "code",
   "execution_count": 140,
   "metadata": {},
   "outputs": [],
   "source": [
    "..."
   ]
  },
  {
   "cell_type": "markdown",
   "metadata": {
    "slideshow": {
     "slide_type": "slide"
    }
   },
   "source": [
    "### Q: Who has the second highest salary?"
   ]
  },
  {
   "cell_type": "code",
   "execution_count": 141,
   "metadata": {},
   "outputs": [],
   "source": [
    "..."
   ]
  },
  {
   "cell_type": "markdown",
   "metadata": {
    "slideshow": {
     "slide_type": "slide"
    }
   },
   "source": [
    "### Questions we can't yet answer:\n",
    "\n",
    "- Who is the highest paid center (C)?\n",
    "- How many players make over \\$200,000 per game?\n",
    "- What is the total payroll of the Cleveland Cavaliers?\n",
    "\n",
    "The common thread between these questions is that they all involve *filtering* rows out of our DataFrame."
   ]
  },
  {
   "cell_type": "markdown",
   "metadata": {
    "slideshow": {
     "slide_type": "slide"
    }
   },
   "source": [
    "## Example 6: Who is the highest paid center (C)?\n",
    "\n",
    "**Key concept**: Selecting rows (via Boolean indexing)."
   ]
  },
  {
   "cell_type": "markdown",
   "metadata": {
    "slideshow": {
     "slide_type": "slide"
    }
   },
   "source": [
    "### Selecting rows\n",
    "\n",
    "- We can determine who the highest paid center (C) is if we have a DataFrame consisting of only centers.\n",
    "- How do we get that DataFrame?"
   ]
  },
  {
   "cell_type": "markdown",
   "metadata": {
    "slideshow": {
     "slide_type": "slide"
    }
   },
   "source": [
    "### The solution"
   ]
  },
  {
   "cell_type": "code",
   "execution_count": 142,
   "metadata": {},
   "outputs": [],
   "source": [
    "%%pt\n",
    "\n",
    "..."
   ]
  },
  {
   "cell_type": "code",
   "execution_count": 143,
   "metadata": {},
   "outputs": [],
   "source": [
    "..."
   ]
  },
  {
   "cell_type": "code",
   "execution_count": 144,
   "metadata": {},
   "outputs": [],
   "source": [
    "%%pt\n",
    "\n",
    "..."
   ]
  },
  {
   "cell_type": "markdown",
   "metadata": {
    "slideshow": {
     "slide_type": "slide"
    }
   },
   "source": [
    "### Boolean indexing\n",
    "\n",
    "To select only some rows of `salaries_pg`:\n",
    "\n",
    "1. Make a sequence (list/array/Series) of `True`s (keep) and `False`s (toss).\n",
    "    - The values `True` and `False` are of the _Boolean_ data type.\n",
    "    \n",
    "2. Then pass it into `salaries_pg[sequence_goes_here]`.\n",
    "\n",
    "Rather than making the sequence by hand, we usually generate it by making a comparison."
   ]
  },
  {
   "cell_type": "markdown",
   "metadata": {
    "slideshow": {
     "slide_type": "slide"
    }
   },
   "source": [
    "### Elementwise comparisions work as expected"
   ]
  },
  {
   "cell_type": "code",
   "execution_count": 145,
   "metadata": {},
   "outputs": [],
   "source": [
    "%%pt\n",
    "\n",
    "..."
   ]
  },
  {
   "cell_type": "markdown",
   "metadata": {
    "slideshow": {
     "slide_type": "slide"
    }
   },
   "source": [
    "### How do we make a DataFrame with only the players who make over \\$200,000 per game?"
   ]
  },
  {
   "cell_type": "code",
   "execution_count": 146,
   "metadata": {},
   "outputs": [],
   "source": [
    "..."
   ]
  },
  {
   "cell_type": "code",
   "execution_count": 146,
   "metadata": {
    "slideshow": {
     "slide_type": "slide"
    }
   },
   "outputs": [],
   "source": [
    "salaries_pg[salaries_pg['Salary_per_game'] > 200000] \n",
    "# is a shorthand for:\n",
    "..."
   ]
  },
  {
   "cell_type": "markdown",
   "metadata": {
    "slideshow": {
     "slide_type": "slide"
    }
   },
   "source": [
    "### How do we make a DataFrame with only the players on the Cleveland Cavaliers?"
   ]
  },
  {
   "cell_type": "code",
   "execution_count": 147,
   "metadata": {},
   "outputs": [],
   "source": [
    "..."
   ]
  },
  {
   "cell_type": "markdown",
   "metadata": {
    "slideshow": {
     "slide_type": "slide"
    }
   },
   "source": [
    "### Original Question: How do we determine who the highest paid center is?\n",
    "\n",
    "Strategy:\n",
    "1. Extract a DataFrame of just the centers.\n",
    "2. Sort by salary.\n",
    "3. Return the first element in the index."
   ]
  },
  {
   "cell_type": "code",
   "execution_count": 148,
   "metadata": {},
   "outputs": [],
   "source": [
    "..."
   ]
  },
  {
   "cell_type": "markdown",
   "metadata": {
    "slideshow": {
     "slide_type": "slide"
    }
   },
   "source": [
    "### What if the condition isn't satisfied?"
   ]
  },
  {
   "cell_type": "code",
   "execution_count": 149,
   "metadata": {},
   "outputs": [],
   "source": [
    "salaries_pg[salaries_pg['Team'] == 'OReilly!']"
   ]
  },
  {
   "cell_type": "markdown",
   "metadata": {
    "slideshow": {
     "slide_type": "slide"
    }
   },
   "source": [
    "## Your Turn\n",
    "\n",
    "Answer the following questions using `pandas`!"
   ]
  },
  {
   "cell_type": "markdown",
   "metadata": {
    "slideshow": {
     "slide_type": "slide"
    }
   },
   "source": [
    "### Q: What position has a higher max salary: point guards (PG)? Or centers (C)?"
   ]
  },
  {
   "cell_type": "code",
   "execution_count": 150,
   "metadata": {},
   "outputs": [],
   "source": [
    "..."
   ]
  },
  {
   "cell_type": "code",
   "execution_count": 151,
   "metadata": {},
   "outputs": [],
   "source": [
    "..."
   ]
  },
  {
   "cell_type": "markdown",
   "metadata": {
    "slideshow": {
     "slide_type": "slide"
    }
   },
   "source": [
    "### Q: How much did the Golden State Warriors pay their players in total?"
   ]
  },
  {
   "cell_type": "code",
   "execution_count": 153,
   "metadata": {},
   "outputs": [],
   "source": [
    "salaries_pg[salaries_pg['Team'] == 'Golden State Warriors']['Salary'].sum()"
   ]
  },
  {
   "cell_type": "markdown",
   "metadata": {
    "slideshow": {
     "slide_type": "slide"
    }
   },
   "source": [
    "## Multiple conditions\n",
    "\n",
    "- To do a query with multiple conditions, use `&` for \"and\" and `|` for \"or\".\n",
    "- **Must use parentheses around each query.**\n",
    "- Note: Don't use the Python keywords `and` and `or` here! They do not behave as you'd want.\n",
    "    - Read the course notes for an explanation."
   ]
  },
  {
   "cell_type": "code",
   "execution_count": 154,
   "metadata": {},
   "outputs": [],
   "source": [
    "# Find all players who are guards (point guards or shooting guards)\n",
    "..."
   ]
  },
  {
   "cell_type": "code",
   "execution_count": 157,
   "metadata": {
    "slideshow": {
     "slide_type": "slide"
    }
   },
   "outputs": [],
   "source": [
    "# Find all the shooting guards for the Lakers\n",
    "salaries[(salaries['Position'] == 'SG') &\n",
    "         ..."
   ]
  },
  {
   "cell_type": "markdown",
   "metadata": {
    "slideshow": {
     "slide_type": "slide"
    }
   },
   "source": [
    "## Aggregating data\n",
    "\n",
    "Let's turn now to a different dataset: dogs!"
   ]
  },
  {
   "cell_type": "code",
   "execution_count": 191,
   "metadata": {},
   "outputs": [],
   "source": [
    "dogs = ...\n",
    "dogs"
   ]
  },
  {
   "cell_type": "markdown",
   "metadata": {
    "slideshow": {
     "slide_type": "slide"
    }
   },
   "source": [
    "### Taking means for each group\n",
    "\n",
    "- We know we can find the mean cost for all the dog breeds using `.mean()`:"
   ]
  },
  {
   "cell_type": "code",
   "execution_count": 192,
   "metadata": {},
   "outputs": [],
   "source": [
    "..."
   ]
  },
  {
   "cell_type": "markdown",
   "metadata": {},
   "source": [
    "But what about the means for small vs. medium vs. large dogs?"
   ]
  },
  {
   "cell_type": "code",
   "execution_count": 193,
   "metadata": {},
   "outputs": [],
   "source": [
    "..."
   ]
  },
  {
   "cell_type": "markdown",
   "metadata": {
    "slideshow": {
     "slide_type": "slide"
    }
   },
   "source": [
    "### Using `.groupby()`\n",
    "\n",
    "- `.groupby(column)` split the table into groups.\n",
    "- Then, call aggregation function (e.g. `.mean()`, `.median()`, `.max()`, `.count()` to aggregate once for each group."
   ]
  },
  {
   "cell_type": "code",
   "execution_count": 194,
   "metadata": {},
   "outputs": [],
   "source": [
    "# Smaller table so it's easier to visualize\n",
    "dogs_small = dogs.head(5)\n",
    "dogs_small"
   ]
  },
  {
   "cell_type": "code",
   "execution_count": 195,
   "metadata": {},
   "outputs": [],
   "source": [
    "%%pt\n",
    "..."
   ]
  },
  {
   "cell_type": "markdown",
   "metadata": {
    "slideshow": {
     "slide_type": "slide"
    }
   },
   "source": [
    "### Observation #1\n",
    "\n",
    "- The index has changed to dog sizes.\n",
    "- In general, the new row labels are the *group labels* (the value used to determine if two rows were in same group)."
   ]
  },
  {
   "cell_type": "code",
   "execution_count": 196,
   "metadata": {},
   "outputs": [],
   "source": [
    "dogs.groupby('size').mean()"
   ]
  },
  {
   "cell_type": "markdown",
   "metadata": {
    "slideshow": {
     "slide_type": "slide"
    }
   },
   "source": [
    "### Observation #2\n",
    "\n",
    "- Some columns have disappeared. Why?"
   ]
  },
  {
   "cell_type": "code",
   "execution_count": 197,
   "metadata": {},
   "outputs": [],
   "source": [
    "dogs.groupby('size').mean()"
   ]
  },
  {
   "cell_type": "markdown",
   "metadata": {
    "slideshow": {
     "slide_type": "slide"
    }
   },
   "source": [
    "### Disappearing columns ✨🐇🎩  \n",
    "\n",
    "- The aggregation method is applied to each column.\n",
    "- If it doesn't make sense to apply it to a particular column, that column will disappear.\n",
    "- Example: We can't sum strings, like in the `'breed'` column.\n",
    "- Surprising example: we *can* `max()` strings. How?"
   ]
  },
  {
   "cell_type": "code",
   "execution_count": 199,
   "metadata": {},
   "outputs": [],
   "source": [
    "# Careful with max() and min()!\n",
    "dogs.groupby('size').max()"
   ]
  },
  {
   "cell_type": "code",
   "execution_count": 200,
   "metadata": {},
   "outputs": [],
   "source": [
    "dogs[dogs['breed'] == 'Saint Bernard']"
   ]
  },
  {
   "cell_type": "markdown",
   "metadata": {
    "slideshow": {
     "slide_type": "slide"
    }
   },
   "source": []
  }
 ],
 "metadata": {
  "celltoolbar": "Slideshow",
  "kernelspec": {
   "display_name": "Python 3 (ipykernel)",
   "language": "python",
   "name": "python3"
  },
  "language_info": {
   "codemirror_mode": {
    "name": "ipython",
    "version": 3
   },
   "file_extension": ".py",
   "mimetype": "text/x-python",
   "name": "python",
   "nbconvert_exporter": "python",
   "pygments_lexer": "ipython3",
   "version": "3.8.5"
  }
 },
 "nbformat": 4,
 "nbformat_minor": 4
}
