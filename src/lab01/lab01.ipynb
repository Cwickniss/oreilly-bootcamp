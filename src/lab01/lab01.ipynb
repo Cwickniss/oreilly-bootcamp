{
 "cells": [
  {
   "cell_type": "markdown",
   "metadata": {
    "slideshow": {
     "slide_type": "skip"
    }
   },
   "source": [
    "```\n",
    "BEGIN ASSIGNMENT\n",
    "init_cell: false\n",
    "export_cell: false\n",
    "check_all_cell: false\n",
    "files:\n",
    "    - data\n",
    "    - figures\n",
    "    - bootcamp_utils.py\n",
    "\n",
    "requirements: ../../requirements.txt\n",
    "\n",
    "generate:\n",
    "    show_hidden: true\n",
    "```"
   ]
  },
  {
   "cell_type": "code",
   "execution_count": 1,
   "metadata": {
    "slideshow": {
     "slide_type": "skip"
    },
    "tags": [
     "remove-cell"
    ]
   },
   "outputs": [],
   "source": [
    "# This line sets up display options, imports, etc.\n",
    "from bootcamp_utils import *"
   ]
  },
  {
   "cell_type": "markdown",
   "metadata": {
    "slideshow": {
     "slide_type": "slide"
    }
   },
   "source": [
    "# Lab 1: Pandas and Data Cleaning\n",
    "\n",
    "**Data Science Bootcamp with Python, Pandas, and Plotly**\n",
    "\n",
    "Feb 21, 2023\n",
    "\n",
    "**Agenda:**\n",
    "\n",
    "- Introductions\n",
    "- About the bootcamp\n",
    "- Using pandas for data tables\n",
    "- Data cleaning using pandas"
   ]
  },
  {
   "cell_type": "markdown",
   "metadata": {
    "slideshow": {
     "slide_type": ""
    }
   },
   "source": [
    "## Welcome!"
   ]
  },
  {
   "cell_type": "markdown",
   "metadata": {
    "slideshow": {
     "slide_type": "slide"
    }
   },
   "source": [
    "## About the Instructors: Sam Lau\n",
    "\n",
    "<div class=\"ss\">\n",
    "<div>\n",
    "        \n",
    "- PhD student at UC San Diego\n",
    "- Research: program viz, Pandas Tutor\n",
    "- Teaching: 9+ years, about to become teaching professor at...\n",
    "- Excited to meet you!\n",
    "        \n",
    "</div>\n",
    "<div>\n",
    "        \n",
    "TODO: add pic\n",
    "        \n",
    "</div>\n",
    "</div>"
   ]
  },
  {
   "cell_type": "markdown",
   "metadata": {
    "slideshow": {
     "slide_type": "slide"
    }
   },
   "source": [
    "## About the Instructors: Joey Gonzalez\n",
    "\n",
    "<div class=\"ss\">\n",
    "<div>\n",
    "        \n",
    "TODO: fill me in\n",
    "\n",
    "</div>\n",
    "<div>\n",
    "        \n",
    "TODO: add pic\n",
    "        \n",
    "</div>\n",
    "</div>"
   ]
  },
  {
   "cell_type": "markdown",
   "metadata": {
    "slideshow": {
     "slide_type": "slide"
    }
   },
   "source": [
    "## About the Instructors: Deb Nolan\n",
    "\n",
    "<div class=\"ss\">\n",
    "<div>\n",
    "        \n",
    "TODO: fill me in\n",
    "\n",
    "</div>\n",
    "<div>\n",
    "        \n",
    "TODO: add pic\n",
    "        \n",
    "</div>\n",
    "</div>"
   ]
  },
  {
   "cell_type": "markdown",
   "metadata": {
    "slideshow": {
     "slide_type": "slide"
    }
   },
   "source": [
    "## About the Course\n",
    "\n",
    "- 4 weeks long, 3 hours each session\n",
    "- A mix of concepts (slides) and coding labs (Jupyter notebook)"
   ]
  },
  {
   "cell_type": "markdown",
   "metadata": {
    "slideshow": {
     "slide_type": "slide"
    }
   },
   "source": [
    "## Following Along\n",
    "\n",
    "- TODO: add instructions for students to follow along in notebook.\n",
    "- Take notes directly in notebook"
   ]
  },
  {
   "cell_type": "markdown",
   "metadata": {},
   "source": [
    "## DataFrames"
   ]
  },
  {
   "cell_type": "markdown",
   "metadata": {
    "slideshow": {
     "slide_type": "slide"
    }
   },
   "source": [
    "### DataFrames in `pandas` 🐼\n",
    "\n",
    "- Tables in `pandas` are called \"DataFrames.\"\n",
    "- To use DataFrames, we'll need to import `pandas`. (We'll need `numpy` as well.)"
   ]
  },
  {
   "cell_type": "code",
   "execution_count": 2,
   "metadata": {
    "slideshow": {
     "slide_type": "-"
    }
   },
   "outputs": [],
   "source": [
    "import pandas as pd\n",
    "import numpy as np"
   ]
  },
  {
   "cell_type": "markdown",
   "metadata": {
    "slideshow": {
     "slide_type": "slide"
    }
   },
   "source": [
    "### Reading data from a file 📖\n",
    "\n",
    "- The file `nba-2022.csv` contains all salaries from the 2021-22 NBA (National Basketball Association 🏀) season for players who have played at least 15 games.\n",
    "    - CSV stands for \"comma-separated values\".\n",
    "- We can read a CSV using `pd.read_csv(...)`. Give it the name of the file if it's in the same directory as your notebook, or a path to the file otherwise."
   ]
  },
  {
   "cell_type": "code",
   "execution_count": 21,
   "metadata": {
    "scrolled": false
   },
   "outputs": [
    {
     "data": {
      "text/html": [
       "<div>\n",
       "<style scoped>\n",
       "    .dataframe tbody tr th:only-of-type {\n",
       "        vertical-align: middle;\n",
       "    }\n",
       "\n",
       "    .dataframe tbody tr th {\n",
       "        vertical-align: top;\n",
       "    }\n",
       "\n",
       "    .dataframe thead th {\n",
       "        text-align: right;\n",
       "    }\n",
       "</style>\n",
       "<table border=\"1\" class=\"dataframe\">\n",
       "  <thead>\n",
       "    <tr style=\"text-align: right;\">\n",
       "      <th></th>\n",
       "      <th>Player</th>\n",
       "      <th>Position</th>\n",
       "      <th>Team</th>\n",
       "      <th>Salary</th>\n",
       "    </tr>\n",
       "  </thead>\n",
       "  <tbody>\n",
       "    <tr>\n",
       "      <th>0</th>\n",
       "      <td>John Collins</td>\n",
       "      <td>PF</td>\n",
       "      <td>Atlanta Hawks</td>\n",
       "      <td>23000000</td>\n",
       "    </tr>\n",
       "    <tr>\n",
       "      <th>1</th>\n",
       "      <td>Danilo Gallinari</td>\n",
       "      <td>PF</td>\n",
       "      <td>Atlanta Hawks</td>\n",
       "      <td>20475000</td>\n",
       "    </tr>\n",
       "    <tr>\n",
       "      <th>2</th>\n",
       "      <td>Bogdan Bogdanović</td>\n",
       "      <td>SG</td>\n",
       "      <td>Atlanta Hawks</td>\n",
       "      <td>18000000</td>\n",
       "    </tr>\n",
       "    <tr>\n",
       "      <th>...</th>\n",
       "      <td>...</td>\n",
       "      <td>...</td>\n",
       "      <td>...</td>\n",
       "      <td>...</td>\n",
       "    </tr>\n",
       "    <tr>\n",
       "      <th>378</th>\n",
       "      <td>Raul Neto</td>\n",
       "      <td>PG</td>\n",
       "      <td>Washington Wizards</td>\n",
       "      <td>2089448</td>\n",
       "    </tr>\n",
       "    <tr>\n",
       "      <th>379</th>\n",
       "      <td>Daniel Gafford</td>\n",
       "      <td>C</td>\n",
       "      <td>Washington Wizards</td>\n",
       "      <td>1782621</td>\n",
       "    </tr>\n",
       "    <tr>\n",
       "      <th>380</th>\n",
       "      <td>Anthony Gill</td>\n",
       "      <td>PF</td>\n",
       "      <td>Washington Wizards</td>\n",
       "      <td>1517981</td>\n",
       "    </tr>\n",
       "  </tbody>\n",
       "</table>\n",
       "<p>381 rows × 4 columns</p>\n",
       "</div>"
      ],
      "text/plain": [
       "                Player Position                Team    Salary\n",
       "0         John Collins       PF       Atlanta Hawks  23000000\n",
       "1     Danilo Gallinari       PF       Atlanta Hawks  20475000\n",
       "2    Bogdan Bogdanović       SG       Atlanta Hawks  18000000\n",
       "..                 ...      ...                 ...       ...\n",
       "378          Raul Neto       PG  Washington Wizards   2089448\n",
       "379     Daniel Gafford        C  Washington Wizards   1782621\n",
       "380       Anthony Gill       PF  Washington Wizards   1517981\n",
       "\n",
       "[381 rows x 4 columns]"
      ]
     },
     "execution_count": 21,
     "metadata": {},
     "output_type": "execute_result"
    }
   ],
   "source": [
    "salaries = pd.read_csv('https://github.com/DS-100/textbook/blob/master/content/datasets/nba-2022.csv?raw=true')\n",
    "salaries"
   ]
  },
  {
   "cell_type": "markdown",
   "metadata": {
    "slideshow": {
     "slide_type": "slide"
    }
   },
   "source": [
    "### Structure of a DataFrame\n",
    "\n",
    "- DataFrames have *columns* and *rows*.\n",
    "    - Think of each column as an array.\n",
    "- Each column has a label: `'Player'`, `'Position'`, etc.\n",
    "    - This is its name.\n",
    "    - Column labels are stored as strings.\n",
    "- Every row has a label too.\n",
    "    - Together, the row labels are called the _index_. The index is **not** a column!\n",
    "    "
   ]
  },
  {
   "cell_type": "markdown",
   "metadata": {
    "slideshow": {
     "slide_type": "slide"
    }
   },
   "source": [
    "#### Here's an example DataFrame of dog breeds:\n",
    "\n",
    "<center>\n",
    "<img src=\"http://www.textbook.ds100.org/_images/dog-labels.svg\" width=\"50%\" />\n",
    "</center>"
   ]
  },
  {
   "cell_type": "code",
   "execution_count": 4,
   "metadata": {
    "slideshow": {
     "slide_type": "slide"
    }
   },
   "outputs": [
    {
     "data": {
      "text/html": [
       "<div>\n",
       "<style scoped>\n",
       "    .dataframe tbody tr th:only-of-type {\n",
       "        vertical-align: middle;\n",
       "    }\n",
       "\n",
       "    .dataframe tbody tr th {\n",
       "        vertical-align: top;\n",
       "    }\n",
       "\n",
       "    .dataframe thead th {\n",
       "        text-align: right;\n",
       "    }\n",
       "</style>\n",
       "<table border=\"1\" class=\"dataframe\">\n",
       "  <thead>\n",
       "    <tr style=\"text-align: right;\">\n",
       "      <th></th>\n",
       "      <th>Player</th>\n",
       "      <th>Position</th>\n",
       "      <th>Team</th>\n",
       "      <th>Salary</th>\n",
       "    </tr>\n",
       "  </thead>\n",
       "  <tbody>\n",
       "    <tr>\n",
       "      <th>0</th>\n",
       "      <td>John Collins</td>\n",
       "      <td>PF</td>\n",
       "      <td>Atlanta Hawks</td>\n",
       "      <td>23000000</td>\n",
       "    </tr>\n",
       "    <tr>\n",
       "      <th>1</th>\n",
       "      <td>Danilo Gallinari</td>\n",
       "      <td>PF</td>\n",
       "      <td>Atlanta Hawks</td>\n",
       "      <td>20475000</td>\n",
       "    </tr>\n",
       "    <tr>\n",
       "      <th>2</th>\n",
       "      <td>Bogdan Bogdanović</td>\n",
       "      <td>SG</td>\n",
       "      <td>Atlanta Hawks</td>\n",
       "      <td>18000000</td>\n",
       "    </tr>\n",
       "    <tr>\n",
       "      <th>...</th>\n",
       "      <td>...</td>\n",
       "      <td>...</td>\n",
       "      <td>...</td>\n",
       "      <td>...</td>\n",
       "    </tr>\n",
       "    <tr>\n",
       "      <th>378</th>\n",
       "      <td>Raul Neto</td>\n",
       "      <td>PG</td>\n",
       "      <td>Washington Wizards</td>\n",
       "      <td>2089448</td>\n",
       "    </tr>\n",
       "    <tr>\n",
       "      <th>379</th>\n",
       "      <td>Daniel Gafford</td>\n",
       "      <td>C</td>\n",
       "      <td>Washington Wizards</td>\n",
       "      <td>1782621</td>\n",
       "    </tr>\n",
       "    <tr>\n",
       "      <th>380</th>\n",
       "      <td>Anthony Gill</td>\n",
       "      <td>PF</td>\n",
       "      <td>Washington Wizards</td>\n",
       "      <td>1517981</td>\n",
       "    </tr>\n",
       "  </tbody>\n",
       "</table>\n",
       "<p>381 rows × 4 columns</p>\n",
       "</div>"
      ],
      "text/plain": [
       "                Player Position                Team    Salary\n",
       "0         John Collins       PF       Atlanta Hawks  23000000\n",
       "1     Danilo Gallinari       PF       Atlanta Hawks  20475000\n",
       "2    Bogdan Bogdanović       SG       Atlanta Hawks  18000000\n",
       "..                 ...      ...                 ...       ...\n",
       "378          Raul Neto       PG  Washington Wizards   2089448\n",
       "379     Daniel Gafford        C  Washington Wizards   1782621\n",
       "380       Anthony Gill       PF  Washington Wizards   1517981\n",
       "\n",
       "[381 rows x 4 columns]"
      ]
     },
     "execution_count": 4,
     "metadata": {},
     "output_type": "execute_result"
    }
   ],
   "source": [
    "# This dataframe has 381 rows and 4 columns\n",
    "salaries"
   ]
  },
  {
   "cell_type": "markdown",
   "metadata": {
    "slideshow": {
     "slide_type": "slide"
    }
   },
   "source": [
    "### Setting a new index\n",
    "\n",
    "- We can set a better index using `.set_index(column_name)`.\n",
    "- Row labels should be unique identifiers.\n",
    "    - Row labels = row names; ideally, each row has a different, descriptive name.\n",
    "- ⚠️ Like most DataFrame methods, `.set_index` returns a new DataFrame; it does not modify the original DataFrame."
   ]
  },
  {
   "cell_type": "code",
   "execution_count": 5,
   "metadata": {},
   "outputs": [
    {
     "data": {
      "text/html": [
       "<div>\n",
       "<style scoped>\n",
       "    .dataframe tbody tr th:only-of-type {\n",
       "        vertical-align: middle;\n",
       "    }\n",
       "\n",
       "    .dataframe tbody tr th {\n",
       "        vertical-align: top;\n",
       "    }\n",
       "\n",
       "    .dataframe thead th {\n",
       "        text-align: right;\n",
       "    }\n",
       "</style>\n",
       "<table border=\"1\" class=\"dataframe\">\n",
       "  <thead>\n",
       "    <tr style=\"text-align: right;\">\n",
       "      <th></th>\n",
       "      <th>Position</th>\n",
       "      <th>Team</th>\n",
       "      <th>Salary</th>\n",
       "    </tr>\n",
       "    <tr>\n",
       "      <th>Player</th>\n",
       "      <th></th>\n",
       "      <th></th>\n",
       "      <th></th>\n",
       "    </tr>\n",
       "  </thead>\n",
       "  <tbody>\n",
       "    <tr>\n",
       "      <th>John Collins</th>\n",
       "      <td>PF</td>\n",
       "      <td>Atlanta Hawks</td>\n",
       "      <td>23000000</td>\n",
       "    </tr>\n",
       "    <tr>\n",
       "      <th>Danilo Gallinari</th>\n",
       "      <td>PF</td>\n",
       "      <td>Atlanta Hawks</td>\n",
       "      <td>20475000</td>\n",
       "    </tr>\n",
       "    <tr>\n",
       "      <th>Bogdan Bogdanović</th>\n",
       "      <td>SG</td>\n",
       "      <td>Atlanta Hawks</td>\n",
       "      <td>18000000</td>\n",
       "    </tr>\n",
       "    <tr>\n",
       "      <th>...</th>\n",
       "      <td>...</td>\n",
       "      <td>...</td>\n",
       "      <td>...</td>\n",
       "    </tr>\n",
       "    <tr>\n",
       "      <th>Raul Neto</th>\n",
       "      <td>PG</td>\n",
       "      <td>Washington Wizards</td>\n",
       "      <td>2089448</td>\n",
       "    </tr>\n",
       "    <tr>\n",
       "      <th>Daniel Gafford</th>\n",
       "      <td>C</td>\n",
       "      <td>Washington Wizards</td>\n",
       "      <td>1782621</td>\n",
       "    </tr>\n",
       "    <tr>\n",
       "      <th>Anthony Gill</th>\n",
       "      <td>PF</td>\n",
       "      <td>Washington Wizards</td>\n",
       "      <td>1517981</td>\n",
       "    </tr>\n",
       "  </tbody>\n",
       "</table>\n",
       "<p>381 rows × 3 columns</p>\n",
       "</div>"
      ],
      "text/plain": [
       "                  Position                Team    Salary\n",
       "Player                                                  \n",
       "John Collins            PF       Atlanta Hawks  23000000\n",
       "Danilo Gallinari        PF       Atlanta Hawks  20475000\n",
       "Bogdan Bogdanović       SG       Atlanta Hawks  18000000\n",
       "...                    ...                 ...       ...\n",
       "Raul Neto               PG  Washington Wizards   2089448\n",
       "Daniel Gafford           C  Washington Wizards   1782621\n",
       "Anthony Gill            PF  Washington Wizards   1517981\n",
       "\n",
       "[381 rows x 3 columns]"
      ]
     },
     "execution_count": 5,
     "metadata": {},
     "output_type": "execute_result"
    }
   ],
   "source": [
    "salaries_by_player = salaries.set_index('Player') # SOLUTION\n",
    "salaries_by_player"
   ]
  },
  {
   "cell_type": "markdown",
   "metadata": {
    "slideshow": {
     "slide_type": "slide"
    }
   },
   "source": [
    "### Shape of a DataFrame\n",
    "\n",
    "- `.shape` returns the number of rows and columns in a given DataFrame.\n",
    "- Access each with `[]`:"
   ]
  },
  {
   "cell_type": "code",
   "execution_count": 6,
   "metadata": {},
   "outputs": [
    {
     "data": {
      "text/plain": [
       "(381, 3)"
      ]
     },
     "execution_count": 6,
     "metadata": {},
     "output_type": "execute_result"
    }
   ],
   "source": [
    "salaries_by_player.shape # SOLUTION"
   ]
  },
  {
   "cell_type": "code",
   "execution_count": 7,
   "metadata": {},
   "outputs": [
    {
     "data": {
      "text/plain": [
       "381"
      ]
     },
     "execution_count": 7,
     "metadata": {},
     "output_type": "execute_result"
    }
   ],
   "source": [
    "# Number of rows\n",
    "salaries_by_player.shape[0] # SOLUTION"
   ]
  },
  {
   "cell_type": "code",
   "execution_count": 8,
   "metadata": {},
   "outputs": [
    {
     "data": {
      "text/plain": [
       "3"
      ]
     },
     "execution_count": 8,
     "metadata": {},
     "output_type": "execute_result"
    }
   ],
   "source": [
    "# Number of columns\n",
    "salaries_by_player.shape[1] # SOLUTION"
   ]
  },
  {
   "cell_type": "markdown",
   "metadata": {
    "slideshow": {
     "slide_type": "slide"
    }
   },
   "source": [
    "## Example 1: Salary per game\n",
    "\n",
    "**Key concepts:** How do we slice values out of a dataframe?"
   ]
  },
  {
   "cell_type": "markdown",
   "metadata": {
    "slideshow": {
     "slide_type": "slide"
    }
   },
   "source": [
    "### Finding per-game salaries\n",
    "\n",
    "- We have each player's salary this season. An NBA regular season has 82 games in it.\n",
    "- **Question:** How much money is each player getting paid per game?\n",
    "- Workflow:\n",
    "    - Get the column of salaries.\n",
    "    - Divide each element by 82.\n",
    "    - Add a new column to the DataFrame."
   ]
  },
  {
   "cell_type": "markdown",
   "metadata": {
    "slideshow": {
     "slide_type": "slide"
    }
   },
   "source": [
    "#### Step 1 – Getting a column\n",
    "\n",
    "- We can get a column from a DataFrame using `df[column_name]`.\n",
    "- ⚠️ Column names are case sensitive!\n",
    "- The result looks like a 1-column DataFrame, but is actually a *Series*."
   ]
  },
  {
   "cell_type": "code",
   "execution_count": 9,
   "metadata": {},
   "outputs": [
    {
     "data": {
      "text/html": [
       "<div>\n",
       "<style scoped>\n",
       "    .dataframe tbody tr th:only-of-type {\n",
       "        vertical-align: middle;\n",
       "    }\n",
       "\n",
       "    .dataframe tbody tr th {\n",
       "        vertical-align: top;\n",
       "    }\n",
       "\n",
       "    .dataframe thead th {\n",
       "        text-align: right;\n",
       "    }\n",
       "</style>\n",
       "<table border=\"1\" class=\"dataframe\">\n",
       "  <thead>\n",
       "    <tr style=\"text-align: right;\">\n",
       "      <th></th>\n",
       "      <th>Position</th>\n",
       "      <th>Team</th>\n",
       "      <th>Salary</th>\n",
       "    </tr>\n",
       "    <tr>\n",
       "      <th>Player</th>\n",
       "      <th></th>\n",
       "      <th></th>\n",
       "      <th></th>\n",
       "    </tr>\n",
       "  </thead>\n",
       "  <tbody>\n",
       "    <tr>\n",
       "      <th>John Collins</th>\n",
       "      <td>PF</td>\n",
       "      <td>Atlanta Hawks</td>\n",
       "      <td>23000000</td>\n",
       "    </tr>\n",
       "    <tr>\n",
       "      <th>Danilo Gallinari</th>\n",
       "      <td>PF</td>\n",
       "      <td>Atlanta Hawks</td>\n",
       "      <td>20475000</td>\n",
       "    </tr>\n",
       "    <tr>\n",
       "      <th>Bogdan Bogdanović</th>\n",
       "      <td>SG</td>\n",
       "      <td>Atlanta Hawks</td>\n",
       "      <td>18000000</td>\n",
       "    </tr>\n",
       "    <tr>\n",
       "      <th>...</th>\n",
       "      <td>...</td>\n",
       "      <td>...</td>\n",
       "      <td>...</td>\n",
       "    </tr>\n",
       "    <tr>\n",
       "      <th>Raul Neto</th>\n",
       "      <td>PG</td>\n",
       "      <td>Washington Wizards</td>\n",
       "      <td>2089448</td>\n",
       "    </tr>\n",
       "    <tr>\n",
       "      <th>Daniel Gafford</th>\n",
       "      <td>C</td>\n",
       "      <td>Washington Wizards</td>\n",
       "      <td>1782621</td>\n",
       "    </tr>\n",
       "    <tr>\n",
       "      <th>Anthony Gill</th>\n",
       "      <td>PF</td>\n",
       "      <td>Washington Wizards</td>\n",
       "      <td>1517981</td>\n",
       "    </tr>\n",
       "  </tbody>\n",
       "</table>\n",
       "<p>381 rows × 3 columns</p>\n",
       "</div>"
      ],
      "text/plain": [
       "                  Position                Team    Salary\n",
       "Player                                                  \n",
       "John Collins            PF       Atlanta Hawks  23000000\n",
       "Danilo Gallinari        PF       Atlanta Hawks  20475000\n",
       "Bogdan Bogdanović       SG       Atlanta Hawks  18000000\n",
       "...                    ...                 ...       ...\n",
       "Raul Neto               PG  Washington Wizards   2089448\n",
       "Daniel Gafford           C  Washington Wizards   1782621\n",
       "Anthony Gill            PF  Washington Wizards   1517981\n",
       "\n",
       "[381 rows x 3 columns]"
      ]
     },
     "execution_count": 9,
     "metadata": {},
     "output_type": "execute_result"
    }
   ],
   "source": [
    "salaries_by_player"
   ]
  },
  {
   "cell_type": "code",
   "execution_count": 10,
   "metadata": {},
   "outputs": [
    {
     "data": {
      "text/plain": [
       "Player\n",
       "John Collins         23000000\n",
       "Danilo Gallinari     20475000\n",
       "Bogdan Bogdanović    18000000\n",
       "                       ...   \n",
       "Raul Neto             2089448\n",
       "Daniel Gafford        1782621\n",
       "Anthony Gill          1517981\n",
       "Name: Salary, Length: 381, dtype: int64"
      ]
     },
     "execution_count": 10,
     "metadata": {},
     "output_type": "execute_result"
    }
   ],
   "source": [
    "salaries_by_player['Salary'] # SOLUTION"
   ]
  },
  {
   "cell_type": "markdown",
   "metadata": {
    "slideshow": {
     "slide_type": "slide"
    }
   },
   "source": [
    "### Digression: Series\n",
    "\n",
    "- A *Series* is like an array, but with an index.\n",
    "- In particular, Series' support arithmetic."
   ]
  },
  {
   "cell_type": "code",
   "execution_count": 11,
   "metadata": {},
   "outputs": [
    {
     "data": {
      "text/plain": [
       "Player\n",
       "John Collins         23000000\n",
       "Danilo Gallinari     20475000\n",
       "Bogdan Bogdanović    18000000\n",
       "                       ...   \n",
       "Raul Neto             2089448\n",
       "Daniel Gafford        1782621\n",
       "Anthony Gill          1517981\n",
       "Name: Salary, Length: 381, dtype: int64"
      ]
     },
     "execution_count": 11,
     "metadata": {},
     "output_type": "execute_result"
    }
   ],
   "source": [
    "salaries_by_player['Salary']"
   ]
  },
  {
   "cell_type": "markdown",
   "metadata": {
    "slideshow": {
     "slide_type": "slide"
    }
   },
   "source": [
    "#### Step 2 – Dividing salaries by the number of games\n",
    "\n",
    "- Just like with arrays, we can perform arithmetic operations on every element of a Series quite efficiently."
   ]
  },
  {
   "cell_type": "code",
   "execution_count": 12,
   "metadata": {},
   "outputs": [
    {
     "data": {
      "text/plain": [
       "Player\n",
       "John Collins         280487.80\n",
       "Danilo Gallinari     249695.12\n",
       "Bogdan Bogdanović    219512.20\n",
       "                       ...    \n",
       "Raul Neto             25481.07\n",
       "Daniel Gafford        21739.28\n",
       "Anthony Gill          18511.96\n",
       "Name: Salary, Length: 381, dtype: float64"
      ]
     },
     "execution_count": 12,
     "metadata": {},
     "output_type": "execute_result"
    }
   ],
   "source": [
    "salaries_by_player['Salary'] / 82 # SOLUTION"
   ]
  },
  {
   "cell_type": "markdown",
   "metadata": {
    "slideshow": {
     "slide_type": "slide"
    }
   },
   "source": [
    "#### Step 3 – Adding the per-game salaries to the DataFrame\n",
    "\n",
    "- Use `.assign(Name_of_column=data_in_array)` to assign a Series (or array, or list) to a DataFrame.\n",
    "- ⚠️ Don't put quotes around `Name_of_column`.\n",
    "- Creates a new DataFrame! Must save to variable."
   ]
  },
  {
   "cell_type": "code",
   "execution_count": 13,
   "metadata": {
    "scrolled": true
   },
   "outputs": [
    {
     "data": {
      "text/html": [
       "<div>\n",
       "<style scoped>\n",
       "    .dataframe tbody tr th:only-of-type {\n",
       "        vertical-align: middle;\n",
       "    }\n",
       "\n",
       "    .dataframe tbody tr th {\n",
       "        vertical-align: top;\n",
       "    }\n",
       "\n",
       "    .dataframe thead th {\n",
       "        text-align: right;\n",
       "    }\n",
       "</style>\n",
       "<table border=\"1\" class=\"dataframe\">\n",
       "  <thead>\n",
       "    <tr style=\"text-align: right;\">\n",
       "      <th></th>\n",
       "      <th>Position</th>\n",
       "      <th>Team</th>\n",
       "      <th>Salary</th>\n",
       "      <th>Salary_per_game</th>\n",
       "    </tr>\n",
       "    <tr>\n",
       "      <th>Player</th>\n",
       "      <th></th>\n",
       "      <th></th>\n",
       "      <th></th>\n",
       "      <th></th>\n",
       "    </tr>\n",
       "  </thead>\n",
       "  <tbody>\n",
       "    <tr>\n",
       "      <th>John Collins</th>\n",
       "      <td>PF</td>\n",
       "      <td>Atlanta Hawks</td>\n",
       "      <td>23000000</td>\n",
       "      <td>280487.80</td>\n",
       "    </tr>\n",
       "    <tr>\n",
       "      <th>Danilo Gallinari</th>\n",
       "      <td>PF</td>\n",
       "      <td>Atlanta Hawks</td>\n",
       "      <td>20475000</td>\n",
       "      <td>249695.12</td>\n",
       "    </tr>\n",
       "    <tr>\n",
       "      <th>Bogdan Bogdanović</th>\n",
       "      <td>SG</td>\n",
       "      <td>Atlanta Hawks</td>\n",
       "      <td>18000000</td>\n",
       "      <td>219512.20</td>\n",
       "    </tr>\n",
       "    <tr>\n",
       "      <th>...</th>\n",
       "      <td>...</td>\n",
       "      <td>...</td>\n",
       "      <td>...</td>\n",
       "      <td>...</td>\n",
       "    </tr>\n",
       "    <tr>\n",
       "      <th>Raul Neto</th>\n",
       "      <td>PG</td>\n",
       "      <td>Washington Wizards</td>\n",
       "      <td>2089448</td>\n",
       "      <td>25481.07</td>\n",
       "    </tr>\n",
       "    <tr>\n",
       "      <th>Daniel Gafford</th>\n",
       "      <td>C</td>\n",
       "      <td>Washington Wizards</td>\n",
       "      <td>1782621</td>\n",
       "      <td>21739.28</td>\n",
       "    </tr>\n",
       "    <tr>\n",
       "      <th>Anthony Gill</th>\n",
       "      <td>PF</td>\n",
       "      <td>Washington Wizards</td>\n",
       "      <td>1517981</td>\n",
       "      <td>18511.96</td>\n",
       "    </tr>\n",
       "  </tbody>\n",
       "</table>\n",
       "<p>381 rows × 4 columns</p>\n",
       "</div>"
      ],
      "text/plain": [
       "                  Position                Team    Salary  Salary_per_game\n",
       "Player                                                                   \n",
       "John Collins            PF       Atlanta Hawks  23000000        280487.80\n",
       "Danilo Gallinari        PF       Atlanta Hawks  20475000        249695.12\n",
       "Bogdan Bogdanović       SG       Atlanta Hawks  18000000        219512.20\n",
       "...                    ...                 ...       ...              ...\n",
       "Raul Neto               PG  Washington Wizards   2089448         25481.07\n",
       "Daniel Gafford           C  Washington Wizards   1782621         21739.28\n",
       "Anthony Gill            PF  Washington Wizards   1517981         18511.96\n",
       "\n",
       "[381 rows x 4 columns]"
      ]
     },
     "execution_count": 13,
     "metadata": {},
     "output_type": "execute_result"
    }
   ],
   "source": [
    "# BEGIN SOLUTION\n",
    "salaries_by_player.assign(\n",
    "    Salary_per_game=salaries_by_player['Salary'] / 82\n",
    ")\n",
    "# END SOLUTION"
   ]
  },
  {
   "cell_type": "code",
   "execution_count": 14,
   "metadata": {},
   "outputs": [
    {
     "data": {
      "text/html": [
       "<div>\n",
       "<style scoped>\n",
       "    .dataframe tbody tr th:only-of-type {\n",
       "        vertical-align: middle;\n",
       "    }\n",
       "\n",
       "    .dataframe tbody tr th {\n",
       "        vertical-align: top;\n",
       "    }\n",
       "\n",
       "    .dataframe thead th {\n",
       "        text-align: right;\n",
       "    }\n",
       "</style>\n",
       "<table border=\"1\" class=\"dataframe\">\n",
       "  <thead>\n",
       "    <tr style=\"text-align: right;\">\n",
       "      <th></th>\n",
       "      <th>Position</th>\n",
       "      <th>Team</th>\n",
       "      <th>Salary</th>\n",
       "    </tr>\n",
       "    <tr>\n",
       "      <th>Player</th>\n",
       "      <th></th>\n",
       "      <th></th>\n",
       "      <th></th>\n",
       "    </tr>\n",
       "  </thead>\n",
       "  <tbody>\n",
       "    <tr>\n",
       "      <th>John Collins</th>\n",
       "      <td>PF</td>\n",
       "      <td>Atlanta Hawks</td>\n",
       "      <td>23000000</td>\n",
       "    </tr>\n",
       "    <tr>\n",
       "      <th>Danilo Gallinari</th>\n",
       "      <td>PF</td>\n",
       "      <td>Atlanta Hawks</td>\n",
       "      <td>20475000</td>\n",
       "    </tr>\n",
       "    <tr>\n",
       "      <th>Bogdan Bogdanović</th>\n",
       "      <td>SG</td>\n",
       "      <td>Atlanta Hawks</td>\n",
       "      <td>18000000</td>\n",
       "    </tr>\n",
       "    <tr>\n",
       "      <th>...</th>\n",
       "      <td>...</td>\n",
       "      <td>...</td>\n",
       "      <td>...</td>\n",
       "    </tr>\n",
       "    <tr>\n",
       "      <th>Raul Neto</th>\n",
       "      <td>PG</td>\n",
       "      <td>Washington Wizards</td>\n",
       "      <td>2089448</td>\n",
       "    </tr>\n",
       "    <tr>\n",
       "      <th>Daniel Gafford</th>\n",
       "      <td>C</td>\n",
       "      <td>Washington Wizards</td>\n",
       "      <td>1782621</td>\n",
       "    </tr>\n",
       "    <tr>\n",
       "      <th>Anthony Gill</th>\n",
       "      <td>PF</td>\n",
       "      <td>Washington Wizards</td>\n",
       "      <td>1517981</td>\n",
       "    </tr>\n",
       "  </tbody>\n",
       "</table>\n",
       "<p>381 rows × 3 columns</p>\n",
       "</div>"
      ],
      "text/plain": [
       "                  Position                Team    Salary\n",
       "Player                                                  \n",
       "John Collins            PF       Atlanta Hawks  23000000\n",
       "Danilo Gallinari        PF       Atlanta Hawks  20475000\n",
       "Bogdan Bogdanović       SG       Atlanta Hawks  18000000\n",
       "...                    ...                 ...       ...\n",
       "Raul Neto               PG  Washington Wizards   2089448\n",
       "Daniel Gafford           C  Washington Wizards   1782621\n",
       "Anthony Gill            PF  Washington Wizards   1517981\n",
       "\n",
       "[381 rows x 3 columns]"
      ]
     },
     "execution_count": 14,
     "metadata": {},
     "output_type": "execute_result"
    }
   ],
   "source": [
    "salaries_by_player"
   ]
  },
  {
   "cell_type": "code",
   "execution_count": 15,
   "metadata": {
    "slideshow": {
     "slide_type": "slide"
    }
   },
   "outputs": [],
   "source": [
    "# pg stands for \"per game\"\n",
    "# BEGIN SOLUTION\n",
    "salaries_pg = salaries_by_player.assign(\n",
    "    Salary_per_game=salaries_by_player['Salary'] / 82\n",
    ")\n",
    "# END SOLUTION"
   ]
  },
  {
   "cell_type": "code",
   "execution_count": 16,
   "metadata": {},
   "outputs": [
    {
     "data": {
      "text/html": [
       "<div>\n",
       "<style scoped>\n",
       "    .dataframe tbody tr th:only-of-type {\n",
       "        vertical-align: middle;\n",
       "    }\n",
       "\n",
       "    .dataframe tbody tr th {\n",
       "        vertical-align: top;\n",
       "    }\n",
       "\n",
       "    .dataframe thead th {\n",
       "        text-align: right;\n",
       "    }\n",
       "</style>\n",
       "<table border=\"1\" class=\"dataframe\">\n",
       "  <thead>\n",
       "    <tr style=\"text-align: right;\">\n",
       "      <th></th>\n",
       "      <th>Position</th>\n",
       "      <th>Team</th>\n",
       "      <th>Salary</th>\n",
       "      <th>Salary_per_game</th>\n",
       "    </tr>\n",
       "    <tr>\n",
       "      <th>Player</th>\n",
       "      <th></th>\n",
       "      <th></th>\n",
       "      <th></th>\n",
       "      <th></th>\n",
       "    </tr>\n",
       "  </thead>\n",
       "  <tbody>\n",
       "    <tr>\n",
       "      <th>John Collins</th>\n",
       "      <td>PF</td>\n",
       "      <td>Atlanta Hawks</td>\n",
       "      <td>23000000</td>\n",
       "      <td>280487.80</td>\n",
       "    </tr>\n",
       "    <tr>\n",
       "      <th>Danilo Gallinari</th>\n",
       "      <td>PF</td>\n",
       "      <td>Atlanta Hawks</td>\n",
       "      <td>20475000</td>\n",
       "      <td>249695.12</td>\n",
       "    </tr>\n",
       "    <tr>\n",
       "      <th>Bogdan Bogdanović</th>\n",
       "      <td>SG</td>\n",
       "      <td>Atlanta Hawks</td>\n",
       "      <td>18000000</td>\n",
       "      <td>219512.20</td>\n",
       "    </tr>\n",
       "    <tr>\n",
       "      <th>...</th>\n",
       "      <td>...</td>\n",
       "      <td>...</td>\n",
       "      <td>...</td>\n",
       "      <td>...</td>\n",
       "    </tr>\n",
       "    <tr>\n",
       "      <th>Raul Neto</th>\n",
       "      <td>PG</td>\n",
       "      <td>Washington Wizards</td>\n",
       "      <td>2089448</td>\n",
       "      <td>25481.07</td>\n",
       "    </tr>\n",
       "    <tr>\n",
       "      <th>Daniel Gafford</th>\n",
       "      <td>C</td>\n",
       "      <td>Washington Wizards</td>\n",
       "      <td>1782621</td>\n",
       "      <td>21739.28</td>\n",
       "    </tr>\n",
       "    <tr>\n",
       "      <th>Anthony Gill</th>\n",
       "      <td>PF</td>\n",
       "      <td>Washington Wizards</td>\n",
       "      <td>1517981</td>\n",
       "      <td>18511.96</td>\n",
       "    </tr>\n",
       "  </tbody>\n",
       "</table>\n",
       "<p>381 rows × 4 columns</p>\n",
       "</div>"
      ],
      "text/plain": [
       "                  Position                Team    Salary  Salary_per_game\n",
       "Player                                                                   \n",
       "John Collins            PF       Atlanta Hawks  23000000        280487.80\n",
       "Danilo Gallinari        PF       Atlanta Hawks  20475000        249695.12\n",
       "Bogdan Bogdanović       SG       Atlanta Hawks  18000000        219512.20\n",
       "...                    ...                 ...       ...              ...\n",
       "Raul Neto               PG  Washington Wizards   2089448         25481.07\n",
       "Daniel Gafford           C  Washington Wizards   1782621         21739.28\n",
       "Anthony Gill            PF  Washington Wizards   1517981         18511.96\n",
       "\n",
       "[381 rows x 4 columns]"
      ]
     },
     "execution_count": 16,
     "metadata": {},
     "output_type": "execute_result"
    }
   ],
   "source": [
    "salaries_pg"
   ]
  },
  {
   "cell_type": "markdown",
   "metadata": {
    "slideshow": {
     "slide_type": "slide"
    }
   },
   "source": [
    "### Using pandas tutor\n",
    "\n",
    "- Pandas Tutor is a tool Sam developed as part of his PhD!\n",
    "- It draws diagrams to explain `pandas` code.\n",
    "- Add `%%pt` to the top of the cell to explain the last line of code.\n",
    "  - Can also use website: https://pandastutor.com/\n",
    "- Main downside: only works for relatively small dataframes."
   ]
  },
  {
   "cell_type": "code",
   "execution_count": 17,
   "metadata": {
    "scrolled": false,
    "slideshow": {
     "slide_type": "slide"
    }
   },
   "outputs": [
    {
     "name": "stderr",
     "output_type": "stream",
     "text": [
      "UsageError: Cell magic `%%pt` not found.\n"
     ]
    }
   ],
   "source": [
    "%%pt\n",
    "\n",
    "# BEGIN SOLUTION\n",
    "salaries_pg = salaries_by_player.assign(\n",
    "    Salary_per_game=salaries_by_player['Salary'] / 82\n",
    ")\n",
    "# END SOLUTION"
   ]
  },
  {
   "cell_type": "markdown",
   "metadata": {
    "slideshow": {
     "slide_type": "slide"
    }
   },
   "source": [
    "## Example 2: Getting a particular player's salary\n",
    "\n",
    "**Key concept**: How do we use `.loc[]` for slicing?"
   ]
  },
  {
   "cell_type": "markdown",
   "metadata": {
    "slideshow": {
     "slide_type": "slide"
    }
   },
   "source": [
    "### How much is LeBron James making this season?"
   ]
  },
  {
   "cell_type": "code",
   "execution_count": null,
   "metadata": {},
   "outputs": [],
   "source": [
    "# This is a Series!\n",
    "salaries_pg['Salary']"
   ]
  },
  {
   "cell_type": "markdown",
   "metadata": {
    "slideshow": {
     "slide_type": "slide"
    }
   },
   "source": [
    "### Accessing values by row label: `.loc`\n",
    "\n",
    "- Use `.loc[]` to *access* the element of a DataFrame with a particular row and column label.\n",
    "\n",
    "Syntax:\n",
    "\n",
    "```\n",
    "df.loc[row, column]\n",
    "```"
   ]
  },
  {
   "cell_type": "code",
   "execution_count": null,
   "metadata": {},
   "outputs": [],
   "source": [
    "salaries_pg.loc['LeBron James', 'Salary'] # SOLUTION"
   ]
  },
  {
   "cell_type": "markdown",
   "metadata": {
    "slideshow": {
     "slide_type": "slide"
    }
   },
   "source": [
    "### Example: What position does LeBron play?"
   ]
  },
  {
   "cell_type": "code",
   "execution_count": null,
   "metadata": {},
   "outputs": [],
   "source": [
    "salaries_pg.loc['LeBron James', 'Position'] # SOLUTION"
   ]
  },
  {
   "cell_type": "markdown",
   "metadata": {
    "slideshow": {
     "slide_type": "slide"
    }
   },
   "source": [
    "### Slicing by label: `.loc`\n",
    "\n",
    "We can pass in multiple rows and columns to `.loc[]`:"
   ]
  },
  {
   "cell_type": "code",
   "execution_count": null,
   "metadata": {},
   "outputs": [],
   "source": [
    "salaries_pg.loc[['LeBron James', 'Stephen Curry'], ['Team', 'Salary']] # SOLUTION"
   ]
  },
  {
   "cell_type": "markdown",
   "metadata": {
    "slideshow": {
     "slide_type": "slide"
    }
   },
   "source": [
    "### Slicing by column label: `.loc`\n",
    "\n",
    "`df.loc[:, 'Salary']` is (almost) equivalent to `df['Salary']`.\n",
    "\n",
    "The `:` argument says \"slice all the rows\"."
   ]
  },
  {
   "cell_type": "code",
   "execution_count": null,
   "metadata": {},
   "outputs": [],
   "source": [
    "salaries_pg.loc[:, 'Salary'] # SOLUTION"
   ]
  },
  {
   "cell_type": "code",
   "execution_count": null,
   "metadata": {},
   "outputs": [],
   "source": [
    "salaries_pg['Salary'] # SOLUTION"
   ]
  },
  {
   "cell_type": "markdown",
   "metadata": {
    "slideshow": {
     "slide_type": "slide"
    }
   },
   "source": [
    "## Example 3: Salary analysis\n",
    "\n",
    "**Key concept**: How do we compute statistics of columns?"
   ]
  },
  {
   "cell_type": "markdown",
   "metadata": {
    "slideshow": {
     "slide_type": "slide"
    }
   },
   "source": [
    "### Questions about salary\n",
    "\n",
    "- What is the highest/lowest salary? What is the average salary?\n",
    "- Series' have helpful methods, like `.min()`, `.max()`, `.mean()`, etc."
   ]
  },
  {
   "cell_type": "code",
   "execution_count": null,
   "metadata": {},
   "outputs": [],
   "source": [
    "salaries_pg['Salary'].min()"
   ]
  },
  {
   "cell_type": "code",
   "execution_count": null,
   "metadata": {},
   "outputs": [],
   "source": [
    "salaries_pg['Salary'].max()"
   ]
  },
  {
   "cell_type": "code",
   "execution_count": null,
   "metadata": {},
   "outputs": [],
   "source": [
    "salaries_pg['Salary'].mean()"
   ]
  },
  {
   "cell_type": "code",
   "execution_count": null,
   "metadata": {
    "scrolled": true
   },
   "outputs": [],
   "source": [
    "salaries_pg['Salary'].median()"
   ]
  },
  {
   "cell_type": "markdown",
   "metadata": {
    "slideshow": {
     "slide_type": "slide"
    }
   },
   "source": [
    "## Example 4: *Who* has the highest salary?\n",
    "\n",
    "**Key concept**: Sorting."
   ]
  },
  {
   "cell_type": "markdown",
   "metadata": {
    "slideshow": {
     "slide_type": "slide"
    }
   },
   "source": [
    "#### Step 1 – Sorting the DataFrame\n",
    "\n",
    "- Use the `.sort_values(by=column_name)` method to sort.\n",
    "    - **Notice:** Like most DataFrame methods, this returns a new DataFrame.\n",
    "- Everything works as expected, but we wanted *descending* order."
   ]
  },
  {
   "cell_type": "code",
   "execution_count": null,
   "metadata": {
    "scrolled": false
   },
   "outputs": [],
   "source": [
    "salaries_pg.sort_values(by='Salary') # SOLUTION"
   ]
  },
  {
   "cell_type": "markdown",
   "metadata": {
    "slideshow": {
     "slide_type": "slide"
    }
   },
   "source": [
    "#### Step 1 – Sorting the DataFrame in *descending* order\n",
    "\n",
    "- Use `.sort_values(by=column_name, ascending=False)` to sort in *descending* order."
   ]
  },
  {
   "cell_type": "code",
   "execution_count": null,
   "metadata": {},
   "outputs": [],
   "source": [
    "highest_salaries = salaries_pg.sort_values(by='Salary', ascending=False) # SOLUTION\n",
    "highest_salaries"
   ]
  },
  {
   "cell_type": "markdown",
   "metadata": {
    "slideshow": {
     "slide_type": "slide"
    }
   },
   "source": [
    "#### Step 2 – Getting the *name* of the person with the highest salary\n",
    "\n",
    "- We saw that it's Stephen Curry, but how do we get the name using code?\n",
    "- Remember, the index is like an array."
   ]
  },
  {
   "cell_type": "code",
   "execution_count": null,
   "metadata": {},
   "outputs": [],
   "source": [
    "highest_salaries.index[0] # SOLUTION"
   ]
  },
  {
   "cell_type": "markdown",
   "metadata": {
    "slideshow": {
     "slide_type": "slide"
    }
   },
   "source": [
    "## Example 5: What team does the person with the third-lowest salary play for?\n",
    "\n",
    "**Key concept**: Using integer positions."
   ]
  },
  {
   "cell_type": "markdown",
   "metadata": {
    "slideshow": {
     "slide_type": "slide"
    }
   },
   "source": [
    "#### Slicing using positions: `.iloc[]`\n",
    "\n",
    "- We want to sort the dataframe, then take the third row.\n",
    "- `.iloc[row_position, column_position]` lets us select out values by position."
   ]
  },
  {
   "cell_type": "code",
   "execution_count": null,
   "metadata": {},
   "outputs": [],
   "source": [
    "%%pt\n",
    "\n",
    "lowest_salaries.iloc[2, 1] # SOLUTION"
   ]
  },
  {
   "cell_type": "markdown",
   "metadata": {},
   "source": [
    "#### Aside: Using `.loc` and `.iloc` on Series\n",
    "\n",
    "- `.loc` and `.iloc` also work on Series...\n",
    "- ...but since Series only have rows (not columns), pass in one argument."
   ]
  },
  {
   "cell_type": "code",
   "execution_count": null,
   "metadata": {},
   "outputs": [],
   "source": [
    "lowest_salaries['Team'].iloc[2] # SOLUTION"
   ]
  },
  {
   "cell_type": "markdown",
   "metadata": {
    "slideshow": {
     "slide_type": "slide"
    }
   },
   "source": [
    "### Summary of Slicing\n",
    "\n",
    "- There are three ways to get values out of a DataFrame:\n",
    "    - `.loc[]` uses row and column labels.\n",
    "    - `.iloc[]` uses row and column positions.\n",
    "    - `[]` is a shorthand, but it behaves differently depending on what you pass it."
   ]
  },
  {
   "cell_type": "code",
   "execution_count": null,
   "metadata": {},
   "outputs": [],
   "source": [
    "# Same as salaries.loc[:, 'Team']\n",
    "salaries['Team'] "
   ]
  },
  {
   "cell_type": "code",
   "execution_count": null,
   "metadata": {},
   "outputs": [],
   "source": [
    "# Same as salaries.iloc[0:4, :]\n",
    "salaries[0:4]"
   ]
  },
  {
   "cell_type": "markdown",
   "metadata": {
    "slideshow": {
     "slide_type": "slide"
    }
   },
   "source": [
    "## Your Turn\n",
    "\n",
    "Answer the following questions using `pandas`!"
   ]
  },
  {
   "cell_type": "markdown",
   "metadata": {
    "slideshow": {
     "slide_type": "slide"
    }
   },
   "source": [
    "### Q: What is the highest salary?"
   ]
  },
  {
   "cell_type": "code",
   "execution_count": null,
   "metadata": {},
   "outputs": [],
   "source": [
    "salaries_pg['Salary'].max() # SOLUTION"
   ]
  },
  {
   "cell_type": "markdown",
   "metadata": {
    "slideshow": {
     "slide_type": "slide"
    }
   },
   "source": [
    "### Q: How many players are there in the dataset?"
   ]
  },
  {
   "cell_type": "code",
   "execution_count": null,
   "metadata": {},
   "outputs": [],
   "source": [
    "salaries_pg.shape[0] # SOLUTION"
   ]
  },
  {
   "cell_type": "markdown",
   "metadata": {
    "slideshow": {
     "slide_type": "slide"
    }
   },
   "source": [
    "### Q: What is LeBron James' salary per game?"
   ]
  },
  {
   "cell_type": "code",
   "execution_count": null,
   "metadata": {},
   "outputs": [],
   "source": [
    "salaries_pg['Salary_per_game'].loc['LeBron James'] # SOLUTION"
   ]
  },
  {
   "cell_type": "markdown",
   "metadata": {
    "slideshow": {
     "slide_type": "slide"
    }
   },
   "source": [
    "### Q: Who has the second highest salary?"
   ]
  },
  {
   "cell_type": "code",
   "execution_count": null,
   "metadata": {},
   "outputs": [],
   "source": [
    "salaries_pg.sort_values(by='Salary', ascending=False).index[1] # SOLUTION"
   ]
  },
  {
   "cell_type": "markdown",
   "metadata": {
    "slideshow": {
     "slide_type": "slide"
    }
   },
   "source": [
    "### Questions we can't yet answer:\n",
    "\n",
    "- Who is the highest paid center (C)?\n",
    "- How many players make over \\$200,000 per game?\n",
    "- What is the total payroll of the Cleveland Cavaliers?\n",
    "\n",
    "The common thread between these questions is that they all involve *filtering* rows out of our DataFrame."
   ]
  },
  {
   "cell_type": "markdown",
   "metadata": {
    "slideshow": {
     "slide_type": "slide"
    }
   },
   "source": [
    "## Example 6: Who is the highest paid center (C)?\n",
    "\n",
    "**Key concept**: Selecting rows (via Boolean indexing)."
   ]
  },
  {
   "cell_type": "markdown",
   "metadata": {
    "slideshow": {
     "slide_type": "slide"
    }
   },
   "source": [
    "### Selecting rows\n",
    "\n",
    "- We can determine who the highest paid center (C) is if we have a DataFrame consisting of only centers.\n",
    "- How do we get that DataFrame?"
   ]
  },
  {
   "cell_type": "markdown",
   "metadata": {
    "slideshow": {
     "slide_type": "slide"
    }
   },
   "source": [
    "### The solution"
   ]
  },
  {
   "cell_type": "code",
   "execution_count": null,
   "metadata": {},
   "outputs": [],
   "source": [
    "%%pt\n",
    "\n",
    "salaries_pg[salaries_pg['Position'] == 'C'] # SOLUTION"
   ]
  },
  {
   "cell_type": "code",
   "execution_count": null,
   "metadata": {},
   "outputs": [],
   "source": [
    "'PG' == 'C' # SOLUTION"
   ]
  },
  {
   "cell_type": "code",
   "execution_count": null,
   "metadata": {},
   "outputs": [],
   "source": [
    "%%pt\n",
    "\n",
    "salaries_pg['Position'] == 'C' # SOLUTION"
   ]
  },
  {
   "cell_type": "markdown",
   "metadata": {
    "slideshow": {
     "slide_type": "slide"
    }
   },
   "source": [
    "### Boolean indexing\n",
    "\n",
    "To select only some rows of `salaries_pg`:\n",
    "\n",
    "1. Make a sequence (list/array/Series) of `True`s (keep) and `False`s (toss).\n",
    "    - The values `True` and `False` are of the _Boolean_ data type.\n",
    "    \n",
    "2. Then pass it into `salaries_pg[sequence_goes_here]`.\n",
    "\n",
    "Rather than making the sequence by hand, we usually generate it by making a comparison."
   ]
  },
  {
   "cell_type": "markdown",
   "metadata": {
    "slideshow": {
     "slide_type": "slide"
    }
   },
   "source": [
    "### Elementwise comparisions work as expected"
   ]
  },
  {
   "cell_type": "code",
   "execution_count": null,
   "metadata": {},
   "outputs": [],
   "source": [
    "%%pt\n",
    "\n",
    "salaries_pg['Salary_per_game'] > 200000 # SOLUTION"
   ]
  },
  {
   "cell_type": "markdown",
   "metadata": {
    "slideshow": {
     "slide_type": "slide"
    }
   },
   "source": [
    "### How do we make a DataFrame with only the players who make over \\$200,000 per game?"
   ]
  },
  {
   "cell_type": "code",
   "execution_count": null,
   "metadata": {},
   "outputs": [],
   "source": [
    "salaries_pg[salaries_pg['Salary_per_game'] > 200000] # SOLUTION"
   ]
  },
  {
   "cell_type": "code",
   "execution_count": null,
   "metadata": {
    "slideshow": {
     "slide_type": "slide"
    }
   },
   "outputs": [],
   "source": [
    "salaries_pg[salaries_pg['Salary_per_game'] > 200000] \n",
    "# is a shorthand for:\n",
    "salaries_pg.loc[salaries_pg['Salary_per_game'] > 200000, :] # SOLUTION"
   ]
  },
  {
   "cell_type": "markdown",
   "metadata": {
    "slideshow": {
     "slide_type": "slide"
    }
   },
   "source": [
    "### How do we make a DataFrame with only the players on the Cleveland Cavaliers?"
   ]
  },
  {
   "cell_type": "code",
   "execution_count": null,
   "metadata": {},
   "outputs": [],
   "source": [
    "salaries_pg[salaries_pg['Team'] == 'Cleveland Cavaliers'] # SOLUTION"
   ]
  },
  {
   "cell_type": "markdown",
   "metadata": {
    "slideshow": {
     "slide_type": "slide"
    }
   },
   "source": [
    "### Original Question: How do we determine who the highest paid center is?\n",
    "\n",
    "Strategy:\n",
    "1. Extract a DataFrame of just the centers.\n",
    "2. Sort by salary.\n",
    "3. Return the first element in the index."
   ]
  },
  {
   "cell_type": "code",
   "execution_count": null,
   "metadata": {},
   "outputs": [],
   "source": [
    "# BEGIN SOLUTION\n",
    "centers = salaries_pg[salaries_pg['Position'] == 'C']\n",
    "highest_paid_center = centers.sort_values(by='Salary', ascending=False).index[0]\n",
    "highest_paid_center\n",
    "# END SOLUTION"
   ]
  },
  {
   "cell_type": "markdown",
   "metadata": {
    "slideshow": {
     "slide_type": "slide"
    }
   },
   "source": [
    "### What if the condition isn't satisfied?"
   ]
  },
  {
   "cell_type": "code",
   "execution_count": null,
   "metadata": {},
   "outputs": [],
   "source": [
    "salaries_pg[salaries_pg['Team'] == 'OReilly!']"
   ]
  },
  {
   "cell_type": "markdown",
   "metadata": {
    "slideshow": {
     "slide_type": "slide"
    }
   },
   "source": [
    "## Your Turn\n",
    "\n",
    "Answer the following questions using `pandas`!"
   ]
  },
  {
   "cell_type": "markdown",
   "metadata": {
    "slideshow": {
     "slide_type": "slide"
    }
   },
   "source": [
    "### Q: What position has a higher max salary: point guards (PG)? Or centers (C)?"
   ]
  },
  {
   "cell_type": "code",
   "execution_count": null,
   "metadata": {},
   "outputs": [],
   "source": [
    "salaries_pg[salaries_pg['Position'] == 'PG']['Salary'].max() # SOLUTION"
   ]
  },
  {
   "cell_type": "code",
   "execution_count": null,
   "metadata": {},
   "outputs": [],
   "source": [
    "salaries_pg[salaries_pg['Position'] == 'C']['Salary'].max() # SOLUTION"
   ]
  },
  {
   "cell_type": "markdown",
   "metadata": {
    "slideshow": {
     "slide_type": "slide"
    }
   },
   "source": [
    "### Q: How much did the Golden State Warriors pay their players in total?"
   ]
  },
  {
   "cell_type": "code",
   "execution_count": null,
   "metadata": {},
   "outputs": [],
   "source": [
    "salaries_pg[salaries_pg['Team'] == 'Golden State Warriors']['Salary'].sum()"
   ]
  },
  {
   "cell_type": "markdown",
   "metadata": {
    "slideshow": {
     "slide_type": "slide"
    }
   },
   "source": [
    "## Multiple conditions\n",
    "\n",
    "- To do a query with multiple conditions, use `&` for \"and\" and `|` for \"or\".\n",
    "- **Must use parentheses around each query.**\n",
    "- Note: Don't use the Python keywords `and` and `or` here! They do not behave as you'd want.\n",
    "    - Read the course notes for an explanation."
   ]
  },
  {
   "cell_type": "code",
   "execution_count": null,
   "metadata": {},
   "outputs": [],
   "source": [
    "# Find all players who are guards (point guards or shooting guards)\n",
    "salaries[(salaries['Position'] == 'PG') | (salaries['Position'] == 'SG')] # SOLUTION"
   ]
  },
  {
   "cell_type": "code",
   "execution_count": null,
   "metadata": {
    "slideshow": {
     "slide_type": "slide"
    }
   },
   "outputs": [],
   "source": [
    "# Find all the shooting guards for the Lakers\n",
    "salaries[(salaries['Position'] == 'SG') &\n",
    "         (salaries['Team'] == 'Los Angeles Lakers')] # SOLUTION"
   ]
  },
  {
   "cell_type": "markdown",
   "metadata": {
    "slideshow": {
     "slide_type": "slide"
    }
   },
   "source": [
    "## Aggregating data\n",
    "\n",
    "Let's turn now to a different dataset: dogs!"
   ]
  },
  {
   "cell_type": "code",
   "execution_count": 20,
   "metadata": {},
   "outputs": [
    {
     "data": {
      "text/html": [
       "<div>\n",
       "<style scoped>\n",
       "    .dataframe tbody tr th:only-of-type {\n",
       "        vertical-align: middle;\n",
       "    }\n",
       "\n",
       "    .dataframe tbody tr th {\n",
       "        vertical-align: top;\n",
       "    }\n",
       "\n",
       "    .dataframe thead th {\n",
       "        text-align: right;\n",
       "    }\n",
       "</style>\n",
       "<table border=\"1\" class=\"dataframe\">\n",
       "  <thead>\n",
       "    <tr style=\"text-align: right;\">\n",
       "      <th></th>\n",
       "      <th>breed</th>\n",
       "      <th>kind</th>\n",
       "      <th>lifetime_cost</th>\n",
       "      <th>longevity</th>\n",
       "      <th>size</th>\n",
       "      <th>weight</th>\n",
       "      <th>height</th>\n",
       "    </tr>\n",
       "  </thead>\n",
       "  <tbody>\n",
       "    <tr>\n",
       "      <th>0</th>\n",
       "      <td>Brittany</td>\n",
       "      <td>sporting</td>\n",
       "      <td>22589.0</td>\n",
       "      <td>12.92</td>\n",
       "      <td>medium</td>\n",
       "      <td>35.0</td>\n",
       "      <td>19.0</td>\n",
       "    </tr>\n",
       "    <tr>\n",
       "      <th>1</th>\n",
       "      <td>Cairn Terrier</td>\n",
       "      <td>terrier</td>\n",
       "      <td>21992.0</td>\n",
       "      <td>13.84</td>\n",
       "      <td>small</td>\n",
       "      <td>14.0</td>\n",
       "      <td>10.0</td>\n",
       "    </tr>\n",
       "    <tr>\n",
       "      <th>2</th>\n",
       "      <td>English Cocker Spaniel</td>\n",
       "      <td>sporting</td>\n",
       "      <td>18993.0</td>\n",
       "      <td>11.66</td>\n",
       "      <td>medium</td>\n",
       "      <td>30.0</td>\n",
       "      <td>16.0</td>\n",
       "    </tr>\n",
       "    <tr>\n",
       "      <th>...</th>\n",
       "      <td>...</td>\n",
       "      <td>...</td>\n",
       "      <td>...</td>\n",
       "      <td>...</td>\n",
       "      <td>...</td>\n",
       "      <td>...</td>\n",
       "      <td>...</td>\n",
       "    </tr>\n",
       "    <tr>\n",
       "      <th>40</th>\n",
       "      <td>Bullmastiff</td>\n",
       "      <td>working</td>\n",
       "      <td>13936.0</td>\n",
       "      <td>7.57</td>\n",
       "      <td>large</td>\n",
       "      <td>115.0</td>\n",
       "      <td>25.5</td>\n",
       "    </tr>\n",
       "    <tr>\n",
       "      <th>41</th>\n",
       "      <td>Mastiff</td>\n",
       "      <td>working</td>\n",
       "      <td>13581.0</td>\n",
       "      <td>6.50</td>\n",
       "      <td>large</td>\n",
       "      <td>175.0</td>\n",
       "      <td>30.0</td>\n",
       "    </tr>\n",
       "    <tr>\n",
       "      <th>42</th>\n",
       "      <td>Saint Bernard</td>\n",
       "      <td>working</td>\n",
       "      <td>20022.0</td>\n",
       "      <td>7.78</td>\n",
       "      <td>large</td>\n",
       "      <td>155.0</td>\n",
       "      <td>26.5</td>\n",
       "    </tr>\n",
       "  </tbody>\n",
       "</table>\n",
       "<p>43 rows × 7 columns</p>\n",
       "</div>"
      ],
      "text/plain": [
       "                     breed      kind  lifetime_cost  longevity    size  \\\n",
       "0                 Brittany  sporting        22589.0      12.92  medium   \n",
       "1            Cairn Terrier   terrier        21992.0      13.84   small   \n",
       "2   English Cocker Spaniel  sporting        18993.0      11.66  medium   \n",
       "..                     ...       ...            ...        ...     ...   \n",
       "40             Bullmastiff   working        13936.0       7.57   large   \n",
       "41                 Mastiff   working        13581.0       6.50   large   \n",
       "42           Saint Bernard   working        20022.0       7.78   large   \n",
       "\n",
       "    weight  height  \n",
       "0     35.0    19.0  \n",
       "1     14.0    10.0  \n",
       "2     30.0    16.0  \n",
       "..     ...     ...  \n",
       "40   115.0    25.5  \n",
       "41   175.0    30.0  \n",
       "42   155.0    26.5  \n",
       "\n",
       "[43 rows x 7 columns]"
      ]
     },
     "execution_count": 20,
     "metadata": {},
     "output_type": "execute_result"
    }
   ],
   "source": [
    "dogs = pd.read_csv('https://github.com/DS-100/textbook/blob/master/content/datasets/dogs43.csv?raw=true') # SOLUTION\n",
    "dogs"
   ]
  },
  {
   "cell_type": "markdown",
   "metadata": {
    "slideshow": {
     "slide_type": "slide"
    }
   },
   "source": [
    "### Taking means for each group\n",
    "\n",
    "- We know we can find the mean cost for all the dog breeds using `.mean()`:"
   ]
  },
  {
   "cell_type": "code",
   "execution_count": null,
   "metadata": {},
   "outputs": [],
   "source": [
    "dogs['lifetime_cost'].mean() # SOLUTION"
   ]
  },
  {
   "cell_type": "markdown",
   "metadata": {},
   "source": [
    "But what about the means for small vs. medium vs. large dogs?"
   ]
  },
  {
   "cell_type": "code",
   "execution_count": null,
   "metadata": {},
   "outputs": [],
   "source": [
    "dogs.groupby('size')['lifetime_cost'].mean() # SOLUTION"
   ]
  },
  {
   "cell_type": "markdown",
   "metadata": {
    "slideshow": {
     "slide_type": "slide"
    }
   },
   "source": [
    "### Using `.groupby()`\n",
    "\n",
    "- `.groupby(column)` split the table into groups.\n",
    "- Then, call aggregation function (e.g. `.mean()`, `.median()`, `.max()`, `.count()` to aggregate once for each group."
   ]
  },
  {
   "cell_type": "code",
   "execution_count": null,
   "metadata": {},
   "outputs": [],
   "source": [
    "# Smaller table so it's easier to visualize\n",
    "dogs_small = dogs.head(5)\n",
    "dogs_small"
   ]
  },
  {
   "cell_type": "code",
   "execution_count": null,
   "metadata": {},
   "outputs": [],
   "source": [
    "%%pt\n",
    "dogs_small.groupby('size').mean() # SOLUTION"
   ]
  },
  {
   "cell_type": "markdown",
   "metadata": {
    "slideshow": {
     "slide_type": "slide"
    }
   },
   "source": [
    "### Observation #1\n",
    "\n",
    "- The index has changed to dog sizes.\n",
    "- In general, the new row labels are the *group labels* (the value used to determine if two rows were in same group)."
   ]
  },
  {
   "cell_type": "code",
   "execution_count": null,
   "metadata": {},
   "outputs": [],
   "source": [
    "dogs.groupby('size').mean()"
   ]
  },
  {
   "cell_type": "markdown",
   "metadata": {
    "slideshow": {
     "slide_type": "slide"
    }
   },
   "source": [
    "### Observation #2\n",
    "\n",
    "- Some columns have disappeared. Why?"
   ]
  },
  {
   "cell_type": "code",
   "execution_count": null,
   "metadata": {},
   "outputs": [],
   "source": [
    "dogs.groupby('size').mean()"
   ]
  },
  {
   "cell_type": "markdown",
   "metadata": {
    "slideshow": {
     "slide_type": "slide"
    }
   },
   "source": [
    "### Disappearing columns ✨🐇🎩  \n",
    "\n",
    "- The aggregation method is applied to each column.\n",
    "- If it doesn't make sense to apply it to a particular column, that column will disappear.\n",
    "- Example: We can't sum strings, like in the `'breed'` column.\n",
    "- Surprising example: we *can* `max()` strings. How?"
   ]
  },
  {
   "cell_type": "code",
   "execution_count": null,
   "metadata": {},
   "outputs": [],
   "source": [
    "# Careful with max() and min()!\n",
    "dogs.groupby('size').max()"
   ]
  },
  {
   "cell_type": "code",
   "execution_count": null,
   "metadata": {},
   "outputs": [],
   "source": [
    "dogs[dogs['breed'] == 'Saint Bernard']"
   ]
  },
  {
   "cell_type": "markdown",
   "metadata": {
    "slideshow": {
     "slide_type": "slide"
    }
   },
   "source": []
  }
 ],
 "metadata": {
  "celltoolbar": "Slideshow",
  "kernelspec": {
   "display_name": "Python 3 (ipykernel)",
   "language": "python",
   "name": "python3"
  },
  "language_info": {
   "codemirror_mode": {
    "name": "ipython",
    "version": 3
   },
   "file_extension": ".py",
   "mimetype": "text/x-python",
   "name": "python",
   "nbconvert_exporter": "python",
   "pygments_lexer": "ipython3",
   "version": "3.8.5"
  }
 },
 "nbformat": 4,
 "nbformat_minor": 4
}
